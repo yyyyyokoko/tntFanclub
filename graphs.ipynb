{
 "cells": [
  {
   "cell_type": "code",
   "execution_count": 262,
   "metadata": {},
   "outputs": [],
   "source": [
    "import warnings\n",
    "warnings.filterwarnings('ignore')\n",
    "\n",
    "import pandas as pd\n",
    "import plotly.express as px\n",
    "import plotly.graph_objects as go\n",
    "import re, copy\n",
    "\n",
    "import chart_studio\n",
    "import chart_studio.plotly as py\n",
    "\n",
    "from datetime import datetime"
   ]
  },
  {
   "cell_type": "code",
   "execution_count": 142,
   "metadata": {},
   "outputs": [],
   "source": [
    "chart_studio.tools.set_credentials_file(username='yyyyyokoko1', api_key='6T9FQvYOiYGBzXEHkZsF', )\n",
    "chart_studio.tools.set_config_file(world_readable=True, sharing='public')"
   ]
  },
  {
   "cell_type": "markdown",
   "metadata": {},
   "source": [
    "### 明星主页 trend"
   ]
  },
  {
   "cell_type": "code",
   "execution_count": 144,
   "metadata": {},
   "outputs": [],
   "source": [
    "trend = pd.read_csv('starpage_history.csv')"
   ]
  },
  {
   "cell_type": "code",
   "execution_count": 145,
   "metadata": {},
   "outputs": [
    {
     "data": {
      "text/html": [
       "<div>\n",
       "<style scoped>\n",
       "    .dataframe tbody tr th:only-of-type {\n",
       "        vertical-align: middle;\n",
       "    }\n",
       "\n",
       "    .dataframe tbody tr th {\n",
       "        vertical-align: top;\n",
       "    }\n",
       "\n",
       "    .dataframe thead th {\n",
       "        text-align: right;\n",
       "    }\n",
       "</style>\n",
       "<table border=\"1\" class=\"dataframe\">\n",
       "  <thead>\n",
       "    <tr style=\"text-align: right;\">\n",
       "      <th></th>\n",
       "      <th>date</th>\n",
       "      <th>tnt</th>\n",
       "      <th>mjq</th>\n",
       "      <th>dcx</th>\n",
       "      <th>syx</th>\n",
       "      <th>lyw</th>\n",
       "      <th>zzy</th>\n",
       "      <th>yhx</th>\n",
       "      <th>hjl</th>\n",
       "      <th>winner</th>\n",
       "    </tr>\n",
       "  </thead>\n",
       "  <tbody>\n",
       "    <tr>\n",
       "      <th>0</th>\n",
       "      <td>2020/05</td>\n",
       "      <td>170190</td>\n",
       "      <td>205160</td>\n",
       "      <td>350280</td>\n",
       "      <td>435170</td>\n",
       "      <td>535210</td>\n",
       "      <td>145940</td>\n",
       "      <td>256550</td>\n",
       "      <td>292850</td>\n",
       "      <td>lyw</td>\n",
       "    </tr>\n",
       "    <tr>\n",
       "      <th>1</th>\n",
       "      <td>2020/06</td>\n",
       "      <td>3520028</td>\n",
       "      <td>2206270</td>\n",
       "      <td>2066968</td>\n",
       "      <td>2721240</td>\n",
       "      <td>3716360</td>\n",
       "      <td>2614120</td>\n",
       "      <td>2135550</td>\n",
       "      <td>2203570</td>\n",
       "      <td>lyw</td>\n",
       "    </tr>\n",
       "    <tr>\n",
       "      <th>2</th>\n",
       "      <td>2020/07</td>\n",
       "      <td>103630</td>\n",
       "      <td>269000</td>\n",
       "      <td>2807210</td>\n",
       "      <td>309630</td>\n",
       "      <td>1307950</td>\n",
       "      <td>189670</td>\n",
       "      <td>527890</td>\n",
       "      <td>562690</td>\n",
       "      <td>dcx</td>\n",
       "    </tr>\n",
       "    <tr>\n",
       "      <th>3</th>\n",
       "      <td>2020/08</td>\n",
       "      <td>85420</td>\n",
       "      <td>159780</td>\n",
       "      <td>311000</td>\n",
       "      <td>230480</td>\n",
       "      <td>280300</td>\n",
       "      <td>1343310</td>\n",
       "      <td>1369720</td>\n",
       "      <td>235680</td>\n",
       "      <td>yhx</td>\n",
       "    </tr>\n",
       "    <tr>\n",
       "      <th>4</th>\n",
       "      <td>2020/09</td>\n",
       "      <td>46620</td>\n",
       "      <td>82640</td>\n",
       "      <td>81370</td>\n",
       "      <td>133460</td>\n",
       "      <td>1298820</td>\n",
       "      <td>76620</td>\n",
       "      <td>80090</td>\n",
       "      <td>74210</td>\n",
       "      <td>lyw</td>\n",
       "    </tr>\n",
       "    <tr>\n",
       "      <th>5</th>\n",
       "      <td>2020/10</td>\n",
       "      <td>30680</td>\n",
       "      <td>49970</td>\n",
       "      <td>65540</td>\n",
       "      <td>2817900</td>\n",
       "      <td>104720</td>\n",
       "      <td>61070</td>\n",
       "      <td>50680</td>\n",
       "      <td>52180</td>\n",
       "      <td>syx</td>\n",
       "    </tr>\n",
       "    <tr>\n",
       "      <th>6</th>\n",
       "      <td>2020/11</td>\n",
       "      <td>60170</td>\n",
       "      <td>74560</td>\n",
       "      <td>71000</td>\n",
       "      <td>179930</td>\n",
       "      <td>2891940</td>\n",
       "      <td>1516210</td>\n",
       "      <td>55560</td>\n",
       "      <td>66110</td>\n",
       "      <td>lyw</td>\n",
       "    </tr>\n",
       "    <tr>\n",
       "      <th>7</th>\n",
       "      <td>2020/12</td>\n",
       "      <td>42270</td>\n",
       "      <td>2615650</td>\n",
       "      <td>65040</td>\n",
       "      <td>109940</td>\n",
       "      <td>152550</td>\n",
       "      <td>51210</td>\n",
       "      <td>54180</td>\n",
       "      <td>46460</td>\n",
       "      <td>mjq</td>\n",
       "    </tr>\n",
       "    <tr>\n",
       "      <th>8</th>\n",
       "      <td>2021/01</td>\n",
       "      <td>220350</td>\n",
       "      <td>518720</td>\n",
       "      <td>167290</td>\n",
       "      <td>1620830</td>\n",
       "      <td>324970</td>\n",
       "      <td>166510</td>\n",
       "      <td>250750</td>\n",
       "      <td>174040</td>\n",
       "      <td>syx</td>\n",
       "    </tr>\n",
       "  </tbody>\n",
       "</table>\n",
       "</div>"
      ],
      "text/plain": [
       "      date      tnt      mjq      dcx      syx      lyw      zzy      yhx  \\\n",
       "0  2020/05   170190   205160   350280   435170   535210   145940   256550   \n",
       "1  2020/06  3520028  2206270  2066968  2721240  3716360  2614120  2135550   \n",
       "2  2020/07   103630   269000  2807210   309630  1307950   189670   527890   \n",
       "3  2020/08    85420   159780   311000   230480   280300  1343310  1369720   \n",
       "4  2020/09    46620    82640    81370   133460  1298820    76620    80090   \n",
       "5  2020/10    30680    49970    65540  2817900   104720    61070    50680   \n",
       "6  2020/11    60170    74560    71000   179930  2891940  1516210    55560   \n",
       "7  2020/12    42270  2615650    65040   109940   152550    51210    54180   \n",
       "8  2021/01   220350   518720   167290  1620830   324970   166510   250750   \n",
       "\n",
       "       hjl winner  \n",
       "0   292850    lyw  \n",
       "1  2203570    lyw  \n",
       "2   562690    dcx  \n",
       "3   235680    yhx  \n",
       "4    74210    lyw  \n",
       "5    52180    syx  \n",
       "6    66110    lyw  \n",
       "7    46460    mjq  \n",
       "8   174040    syx  "
      ]
     },
     "execution_count": 145,
     "metadata": {},
     "output_type": "execute_result"
    }
   ],
   "source": [
    "trend"
   ]
  },
  {
   "cell_type": "code",
   "execution_count": 214,
   "metadata": {},
   "outputs": [],
   "source": [
    "color = ['#000000','#B399FF','#FFD700', '#63C5DE', '#808080', '#c0ebd7', '#FC766A', '#add5a2']\n",
    "color2 = {'tnt': '#000000', 'mjq': '#B399FF','dcx': '#FFD700', 'syx':'#63C5DE', \n",
    "          'lyw': '#808080', 'zzy': '#c0ebd7','yhx': '#FC766A', 'hjl': '#add5a2'}\n",
    "columns = trend.columns[1:-1]"
   ]
  },
  {
   "cell_type": "code",
   "execution_count": 216,
   "metadata": {},
   "outputs": [
    {
     "data": {
      "application/vnd.plotly.v1+json": {
       "config": {
        "plotlyServerURL": "https://plot.ly"
       },
       "data": [
        {
         "line": {
          "color": "#000000"
         },
         "mode": "lines+markers",
         "name": "tnt",
         "type": "scatter",
         "x": [
          "2020/05",
          "2020/06",
          "2020/07",
          "2020/08",
          "2020/09",
          "2020/10",
          "2020/11",
          "2020/12",
          "2021/01"
         ],
         "y": [
          170190,
          3520028,
          103630,
          85420,
          46620,
          30680,
          60170,
          42270,
          220350
         ]
        },
        {
         "line": {
          "color": "#B399FF"
         },
         "mode": "lines+markers",
         "name": "mjq",
         "type": "scatter",
         "x": [
          "2020/05",
          "2020/06",
          "2020/07",
          "2020/08",
          "2020/09",
          "2020/10",
          "2020/11",
          "2020/12",
          "2021/01"
         ],
         "y": [
          205160,
          2206270,
          269000,
          159780,
          82640,
          49970,
          74560,
          2615650,
          518720
         ]
        },
        {
         "line": {
          "color": "#FFD700"
         },
         "mode": "lines+markers",
         "name": "dcx",
         "type": "scatter",
         "x": [
          "2020/05",
          "2020/06",
          "2020/07",
          "2020/08",
          "2020/09",
          "2020/10",
          "2020/11",
          "2020/12",
          "2021/01"
         ],
         "y": [
          350280,
          2066968,
          2807210,
          311000,
          81370,
          65540,
          71000,
          65040,
          167290
         ]
        },
        {
         "line": {
          "color": "#63C5DE"
         },
         "mode": "lines+markers",
         "name": "syx",
         "type": "scatter",
         "x": [
          "2020/05",
          "2020/06",
          "2020/07",
          "2020/08",
          "2020/09",
          "2020/10",
          "2020/11",
          "2020/12",
          "2021/01"
         ],
         "y": [
          435170,
          2721240,
          309630,
          230480,
          133460,
          2817900,
          179930,
          109940,
          1620830
         ]
        },
        {
         "line": {
          "color": "#808080"
         },
         "mode": "lines+markers",
         "name": "lyw",
         "type": "scatter",
         "x": [
          "2020/05",
          "2020/06",
          "2020/07",
          "2020/08",
          "2020/09",
          "2020/10",
          "2020/11",
          "2020/12",
          "2021/01"
         ],
         "y": [
          535210,
          3716360,
          1307950,
          280300,
          1298820,
          104720,
          2891940,
          152550,
          324970
         ]
        },
        {
         "line": {
          "color": "#c0ebd7"
         },
         "mode": "lines+markers",
         "name": "zzy",
         "type": "scatter",
         "x": [
          "2020/05",
          "2020/06",
          "2020/07",
          "2020/08",
          "2020/09",
          "2020/10",
          "2020/11",
          "2020/12",
          "2021/01"
         ],
         "y": [
          145940,
          2614120,
          189670,
          1343310,
          76620,
          61070,
          1516210,
          51210,
          166510
         ]
        },
        {
         "line": {
          "color": "#FC766A"
         },
         "mode": "lines+markers",
         "name": "yhx",
         "type": "scatter",
         "x": [
          "2020/05",
          "2020/06",
          "2020/07",
          "2020/08",
          "2020/09",
          "2020/10",
          "2020/11",
          "2020/12",
          "2021/01"
         ],
         "y": [
          256550,
          2135550,
          527890,
          1369720,
          80090,
          50680,
          55560,
          54180,
          250750
         ]
        },
        {
         "line": {
          "color": "#add5a2"
         },
         "mode": "lines+markers",
         "name": "hjl",
         "type": "scatter",
         "x": [
          "2020/05",
          "2020/06",
          "2020/07",
          "2020/08",
          "2020/09",
          "2020/10",
          "2020/11",
          "2020/12",
          "2021/01"
         ],
         "y": [
          292850,
          2203570,
          562690,
          235680,
          74210,
          52180,
          66110,
          46460,
          174040
         ]
        },
        {
         "marker": {
          "color": "#808080",
          "size": 10
         },
         "mode": "markers+text",
         "showlegend": false,
         "text": [
          "lyw"
         ],
         "textposition": "top center",
         "type": "scatter",
         "x": [
          "2020/05"
         ],
         "y": [
          535210
         ]
        },
        {
         "marker": {
          "color": "#808080",
          "size": 10
         },
         "mode": "markers+text",
         "showlegend": false,
         "text": [
          "lyw"
         ],
         "textposition": "top center",
         "type": "scatter",
         "x": [
          "2020/06"
         ],
         "y": [
          3716360
         ]
        },
        {
         "marker": {
          "color": "#FFD700",
          "size": 10
         },
         "mode": "markers+text",
         "showlegend": false,
         "text": [
          "dcx"
         ],
         "textposition": "top center",
         "type": "scatter",
         "x": [
          "2020/07"
         ],
         "y": [
          2807210
         ]
        },
        {
         "marker": {
          "color": "#FC766A",
          "size": 10
         },
         "mode": "markers+text",
         "showlegend": false,
         "text": [
          "yhx"
         ],
         "textposition": "top center",
         "type": "scatter",
         "x": [
          "2020/08"
         ],
         "y": [
          1369720
         ]
        },
        {
         "marker": {
          "color": "#808080",
          "size": 10
         },
         "mode": "markers+text",
         "showlegend": false,
         "text": [
          "lyw"
         ],
         "textposition": "top center",
         "type": "scatter",
         "x": [
          "2020/09"
         ],
         "y": [
          1298820
         ]
        },
        {
         "marker": {
          "color": "#63C5DE",
          "size": 10
         },
         "mode": "markers+text",
         "showlegend": false,
         "text": [
          "syx"
         ],
         "textposition": "top center",
         "type": "scatter",
         "x": [
          "2020/10"
         ],
         "y": [
          2817900
         ]
        },
        {
         "marker": {
          "color": "#808080",
          "size": 10
         },
         "mode": "markers+text",
         "showlegend": false,
         "text": [
          "lyw"
         ],
         "textposition": "top center",
         "type": "scatter",
         "x": [
          "2020/11"
         ],
         "y": [
          2891940
         ]
        },
        {
         "marker": {
          "color": "#B399FF",
          "size": 10
         },
         "mode": "markers+text",
         "showlegend": false,
         "text": [
          "mjq"
         ],
         "textposition": "top center",
         "type": "scatter",
         "x": [
          "2020/12"
         ],
         "y": [
          2615650
         ]
        },
        {
         "marker": {
          "color": "#63C5DE",
          "size": 10
         },
         "mode": "markers+text",
         "showlegend": false,
         "text": [
          "syx"
         ],
         "textposition": "top center",
         "type": "scatter",
         "x": [
          "2021/01"
         ],
         "y": [
          1620830
         ]
        }
       ],
       "layout": {
        "template": {
         "data": {
          "bar": [
           {
            "error_x": {
             "color": "#2a3f5f"
            },
            "error_y": {
             "color": "#2a3f5f"
            },
            "marker": {
             "line": {
              "color": "white",
              "width": 0.5
             }
            },
            "type": "bar"
           }
          ],
          "barpolar": [
           {
            "marker": {
             "line": {
              "color": "white",
              "width": 0.5
             }
            },
            "type": "barpolar"
           }
          ],
          "carpet": [
           {
            "aaxis": {
             "endlinecolor": "#2a3f5f",
             "gridcolor": "#C8D4E3",
             "linecolor": "#C8D4E3",
             "minorgridcolor": "#C8D4E3",
             "startlinecolor": "#2a3f5f"
            },
            "baxis": {
             "endlinecolor": "#2a3f5f",
             "gridcolor": "#C8D4E3",
             "linecolor": "#C8D4E3",
             "minorgridcolor": "#C8D4E3",
             "startlinecolor": "#2a3f5f"
            },
            "type": "carpet"
           }
          ],
          "choropleth": [
           {
            "colorbar": {
             "outlinewidth": 0,
             "ticks": ""
            },
            "type": "choropleth"
           }
          ],
          "contour": [
           {
            "colorbar": {
             "outlinewidth": 0,
             "ticks": ""
            },
            "colorscale": [
             [
              0,
              "#0d0887"
             ],
             [
              0.1111111111111111,
              "#46039f"
             ],
             [
              0.2222222222222222,
              "#7201a8"
             ],
             [
              0.3333333333333333,
              "#9c179e"
             ],
             [
              0.4444444444444444,
              "#bd3786"
             ],
             [
              0.5555555555555556,
              "#d8576b"
             ],
             [
              0.6666666666666666,
              "#ed7953"
             ],
             [
              0.7777777777777778,
              "#fb9f3a"
             ],
             [
              0.8888888888888888,
              "#fdca26"
             ],
             [
              1,
              "#f0f921"
             ]
            ],
            "type": "contour"
           }
          ],
          "contourcarpet": [
           {
            "colorbar": {
             "outlinewidth": 0,
             "ticks": ""
            },
            "type": "contourcarpet"
           }
          ],
          "heatmap": [
           {
            "colorbar": {
             "outlinewidth": 0,
             "ticks": ""
            },
            "colorscale": [
             [
              0,
              "#0d0887"
             ],
             [
              0.1111111111111111,
              "#46039f"
             ],
             [
              0.2222222222222222,
              "#7201a8"
             ],
             [
              0.3333333333333333,
              "#9c179e"
             ],
             [
              0.4444444444444444,
              "#bd3786"
             ],
             [
              0.5555555555555556,
              "#d8576b"
             ],
             [
              0.6666666666666666,
              "#ed7953"
             ],
             [
              0.7777777777777778,
              "#fb9f3a"
             ],
             [
              0.8888888888888888,
              "#fdca26"
             ],
             [
              1,
              "#f0f921"
             ]
            ],
            "type": "heatmap"
           }
          ],
          "heatmapgl": [
           {
            "colorbar": {
             "outlinewidth": 0,
             "ticks": ""
            },
            "colorscale": [
             [
              0,
              "#0d0887"
             ],
             [
              0.1111111111111111,
              "#46039f"
             ],
             [
              0.2222222222222222,
              "#7201a8"
             ],
             [
              0.3333333333333333,
              "#9c179e"
             ],
             [
              0.4444444444444444,
              "#bd3786"
             ],
             [
              0.5555555555555556,
              "#d8576b"
             ],
             [
              0.6666666666666666,
              "#ed7953"
             ],
             [
              0.7777777777777778,
              "#fb9f3a"
             ],
             [
              0.8888888888888888,
              "#fdca26"
             ],
             [
              1,
              "#f0f921"
             ]
            ],
            "type": "heatmapgl"
           }
          ],
          "histogram": [
           {
            "marker": {
             "colorbar": {
              "outlinewidth": 0,
              "ticks": ""
             }
            },
            "type": "histogram"
           }
          ],
          "histogram2d": [
           {
            "colorbar": {
             "outlinewidth": 0,
             "ticks": ""
            },
            "colorscale": [
             [
              0,
              "#0d0887"
             ],
             [
              0.1111111111111111,
              "#46039f"
             ],
             [
              0.2222222222222222,
              "#7201a8"
             ],
             [
              0.3333333333333333,
              "#9c179e"
             ],
             [
              0.4444444444444444,
              "#bd3786"
             ],
             [
              0.5555555555555556,
              "#d8576b"
             ],
             [
              0.6666666666666666,
              "#ed7953"
             ],
             [
              0.7777777777777778,
              "#fb9f3a"
             ],
             [
              0.8888888888888888,
              "#fdca26"
             ],
             [
              1,
              "#f0f921"
             ]
            ],
            "type": "histogram2d"
           }
          ],
          "histogram2dcontour": [
           {
            "colorbar": {
             "outlinewidth": 0,
             "ticks": ""
            },
            "colorscale": [
             [
              0,
              "#0d0887"
             ],
             [
              0.1111111111111111,
              "#46039f"
             ],
             [
              0.2222222222222222,
              "#7201a8"
             ],
             [
              0.3333333333333333,
              "#9c179e"
             ],
             [
              0.4444444444444444,
              "#bd3786"
             ],
             [
              0.5555555555555556,
              "#d8576b"
             ],
             [
              0.6666666666666666,
              "#ed7953"
             ],
             [
              0.7777777777777778,
              "#fb9f3a"
             ],
             [
              0.8888888888888888,
              "#fdca26"
             ],
             [
              1,
              "#f0f921"
             ]
            ],
            "type": "histogram2dcontour"
           }
          ],
          "mesh3d": [
           {
            "colorbar": {
             "outlinewidth": 0,
             "ticks": ""
            },
            "type": "mesh3d"
           }
          ],
          "parcoords": [
           {
            "line": {
             "colorbar": {
              "outlinewidth": 0,
              "ticks": ""
             }
            },
            "type": "parcoords"
           }
          ],
          "pie": [
           {
            "automargin": true,
            "type": "pie"
           }
          ],
          "scatter": [
           {
            "marker": {
             "colorbar": {
              "outlinewidth": 0,
              "ticks": ""
             }
            },
            "type": "scatter"
           }
          ],
          "scatter3d": [
           {
            "line": {
             "colorbar": {
              "outlinewidth": 0,
              "ticks": ""
             }
            },
            "marker": {
             "colorbar": {
              "outlinewidth": 0,
              "ticks": ""
             }
            },
            "type": "scatter3d"
           }
          ],
          "scattercarpet": [
           {
            "marker": {
             "colorbar": {
              "outlinewidth": 0,
              "ticks": ""
             }
            },
            "type": "scattercarpet"
           }
          ],
          "scattergeo": [
           {
            "marker": {
             "colorbar": {
              "outlinewidth": 0,
              "ticks": ""
             }
            },
            "type": "scattergeo"
           }
          ],
          "scattergl": [
           {
            "marker": {
             "colorbar": {
              "outlinewidth": 0,
              "ticks": ""
             }
            },
            "type": "scattergl"
           }
          ],
          "scattermapbox": [
           {
            "marker": {
             "colorbar": {
              "outlinewidth": 0,
              "ticks": ""
             }
            },
            "type": "scattermapbox"
           }
          ],
          "scatterpolar": [
           {
            "marker": {
             "colorbar": {
              "outlinewidth": 0,
              "ticks": ""
             }
            },
            "type": "scatterpolar"
           }
          ],
          "scatterpolargl": [
           {
            "marker": {
             "colorbar": {
              "outlinewidth": 0,
              "ticks": ""
             }
            },
            "type": "scatterpolargl"
           }
          ],
          "scatterternary": [
           {
            "marker": {
             "colorbar": {
              "outlinewidth": 0,
              "ticks": ""
             }
            },
            "type": "scatterternary"
           }
          ],
          "surface": [
           {
            "colorbar": {
             "outlinewidth": 0,
             "ticks": ""
            },
            "colorscale": [
             [
              0,
              "#0d0887"
             ],
             [
              0.1111111111111111,
              "#46039f"
             ],
             [
              0.2222222222222222,
              "#7201a8"
             ],
             [
              0.3333333333333333,
              "#9c179e"
             ],
             [
              0.4444444444444444,
              "#bd3786"
             ],
             [
              0.5555555555555556,
              "#d8576b"
             ],
             [
              0.6666666666666666,
              "#ed7953"
             ],
             [
              0.7777777777777778,
              "#fb9f3a"
             ],
             [
              0.8888888888888888,
              "#fdca26"
             ],
             [
              1,
              "#f0f921"
             ]
            ],
            "type": "surface"
           }
          ],
          "table": [
           {
            "cells": {
             "fill": {
              "color": "#EBF0F8"
             },
             "line": {
              "color": "white"
             }
            },
            "header": {
             "fill": {
              "color": "#C8D4E3"
             },
             "line": {
              "color": "white"
             }
            },
            "type": "table"
           }
          ]
         },
         "layout": {
          "annotationdefaults": {
           "arrowcolor": "#2a3f5f",
           "arrowhead": 0,
           "arrowwidth": 1
          },
          "coloraxis": {
           "colorbar": {
            "outlinewidth": 0,
            "ticks": ""
           }
          },
          "colorscale": {
           "diverging": [
            [
             0,
             "#8e0152"
            ],
            [
             0.1,
             "#c51b7d"
            ],
            [
             0.2,
             "#de77ae"
            ],
            [
             0.3,
             "#f1b6da"
            ],
            [
             0.4,
             "#fde0ef"
            ],
            [
             0.5,
             "#f7f7f7"
            ],
            [
             0.6,
             "#e6f5d0"
            ],
            [
             0.7,
             "#b8e186"
            ],
            [
             0.8,
             "#7fbc41"
            ],
            [
             0.9,
             "#4d9221"
            ],
            [
             1,
             "#276419"
            ]
           ],
           "sequential": [
            [
             0,
             "#0d0887"
            ],
            [
             0.1111111111111111,
             "#46039f"
            ],
            [
             0.2222222222222222,
             "#7201a8"
            ],
            [
             0.3333333333333333,
             "#9c179e"
            ],
            [
             0.4444444444444444,
             "#bd3786"
            ],
            [
             0.5555555555555556,
             "#d8576b"
            ],
            [
             0.6666666666666666,
             "#ed7953"
            ],
            [
             0.7777777777777778,
             "#fb9f3a"
            ],
            [
             0.8888888888888888,
             "#fdca26"
            ],
            [
             1,
             "#f0f921"
            ]
           ],
           "sequentialminus": [
            [
             0,
             "#0d0887"
            ],
            [
             0.1111111111111111,
             "#46039f"
            ],
            [
             0.2222222222222222,
             "#7201a8"
            ],
            [
             0.3333333333333333,
             "#9c179e"
            ],
            [
             0.4444444444444444,
             "#bd3786"
            ],
            [
             0.5555555555555556,
             "#d8576b"
            ],
            [
             0.6666666666666666,
             "#ed7953"
            ],
            [
             0.7777777777777778,
             "#fb9f3a"
            ],
            [
             0.8888888888888888,
             "#fdca26"
            ],
            [
             1,
             "#f0f921"
            ]
           ]
          },
          "colorway": [
           "#636efa",
           "#EF553B",
           "#00cc96",
           "#ab63fa",
           "#FFA15A",
           "#19d3f3",
           "#FF6692",
           "#B6E880",
           "#FF97FF",
           "#FECB52"
          ],
          "font": {
           "color": "#2a3f5f"
          },
          "geo": {
           "bgcolor": "white",
           "lakecolor": "white",
           "landcolor": "white",
           "showlakes": true,
           "showland": true,
           "subunitcolor": "#C8D4E3"
          },
          "hoverlabel": {
           "align": "left"
          },
          "hovermode": "closest",
          "mapbox": {
           "style": "light"
          },
          "paper_bgcolor": "white",
          "plot_bgcolor": "white",
          "polar": {
           "angularaxis": {
            "gridcolor": "#EBF0F8",
            "linecolor": "#EBF0F8",
            "ticks": ""
           },
           "bgcolor": "white",
           "radialaxis": {
            "gridcolor": "#EBF0F8",
            "linecolor": "#EBF0F8",
            "ticks": ""
           }
          },
          "scene": {
           "xaxis": {
            "backgroundcolor": "white",
            "gridcolor": "#DFE8F3",
            "gridwidth": 2,
            "linecolor": "#EBF0F8",
            "showbackground": true,
            "ticks": "",
            "zerolinecolor": "#EBF0F8"
           },
           "yaxis": {
            "backgroundcolor": "white",
            "gridcolor": "#DFE8F3",
            "gridwidth": 2,
            "linecolor": "#EBF0F8",
            "showbackground": true,
            "ticks": "",
            "zerolinecolor": "#EBF0F8"
           },
           "zaxis": {
            "backgroundcolor": "white",
            "gridcolor": "#DFE8F3",
            "gridwidth": 2,
            "linecolor": "#EBF0F8",
            "showbackground": true,
            "ticks": "",
            "zerolinecolor": "#EBF0F8"
           }
          },
          "shapedefaults": {
           "line": {
            "color": "#2a3f5f"
           }
          },
          "ternary": {
           "aaxis": {
            "gridcolor": "#DFE8F3",
            "linecolor": "#A2B1C6",
            "ticks": ""
           },
           "baxis": {
            "gridcolor": "#DFE8F3",
            "linecolor": "#A2B1C6",
            "ticks": ""
           },
           "bgcolor": "white",
           "caxis": {
            "gridcolor": "#DFE8F3",
            "linecolor": "#A2B1C6",
            "ticks": ""
           }
          },
          "title": {
           "x": 0.05
          },
          "xaxis": {
           "automargin": true,
           "gridcolor": "#EBF0F8",
           "linecolor": "#EBF0F8",
           "ticks": "",
           "title": {
            "standoff": 15
           },
           "zerolinecolor": "#EBF0F8",
           "zerolinewidth": 2
          },
          "yaxis": {
           "automargin": true,
           "gridcolor": "#EBF0F8",
           "linecolor": "#EBF0F8",
           "ticks": "",
           "title": {
            "standoff": 15
           },
           "zerolinecolor": "#EBF0F8",
           "zerolinewidth": 2
          }
         }
        },
        "title": {
         "text": "2020/05 - 2021/02 明星主页小葵花数量变化"
        },
        "xaxis": {
         "title": {
          "text": "月"
         }
        },
        "yaxis": {
         "title": {
          "text": "小葵花"
         }
        }
       }
      },
      "text/html": [
       "<div>\n",
       "        \n",
       "        \n",
       "            <div id=\"cc6ddfc8-cef1-49ed-8631-1f712a734e00\" class=\"plotly-graph-div\" style=\"height:525px; width:100%;\"></div>\n",
       "            <script type=\"text/javascript\">\n",
       "                require([\"plotly\"], function(Plotly) {\n",
       "                    window.PLOTLYENV=window.PLOTLYENV || {};\n",
       "                    \n",
       "                if (document.getElementById(\"cc6ddfc8-cef1-49ed-8631-1f712a734e00\")) {\n",
       "                    Plotly.newPlot(\n",
       "                        'cc6ddfc8-cef1-49ed-8631-1f712a734e00',\n",
       "                        [{\"line\": {\"color\": \"#000000\"}, \"mode\": \"lines+markers\", \"name\": \"tnt\", \"type\": \"scatter\", \"x\": [\"2020/05\", \"2020/06\", \"2020/07\", \"2020/08\", \"2020/09\", \"2020/10\", \"2020/11\", \"2020/12\", \"2021/01\"], \"y\": [170190, 3520028, 103630, 85420, 46620, 30680, 60170, 42270, 220350]}, {\"line\": {\"color\": \"#B399FF\"}, \"mode\": \"lines+markers\", \"name\": \"mjq\", \"type\": \"scatter\", \"x\": [\"2020/05\", \"2020/06\", \"2020/07\", \"2020/08\", \"2020/09\", \"2020/10\", \"2020/11\", \"2020/12\", \"2021/01\"], \"y\": [205160, 2206270, 269000, 159780, 82640, 49970, 74560, 2615650, 518720]}, {\"line\": {\"color\": \"#FFD700\"}, \"mode\": \"lines+markers\", \"name\": \"dcx\", \"type\": \"scatter\", \"x\": [\"2020/05\", \"2020/06\", \"2020/07\", \"2020/08\", \"2020/09\", \"2020/10\", \"2020/11\", \"2020/12\", \"2021/01\"], \"y\": [350280, 2066968, 2807210, 311000, 81370, 65540, 71000, 65040, 167290]}, {\"line\": {\"color\": \"#63C5DE\"}, \"mode\": \"lines+markers\", \"name\": \"syx\", \"type\": \"scatter\", \"x\": [\"2020/05\", \"2020/06\", \"2020/07\", \"2020/08\", \"2020/09\", \"2020/10\", \"2020/11\", \"2020/12\", \"2021/01\"], \"y\": [435170, 2721240, 309630, 230480, 133460, 2817900, 179930, 109940, 1620830]}, {\"line\": {\"color\": \"#808080\"}, \"mode\": \"lines+markers\", \"name\": \"lyw\", \"type\": \"scatter\", \"x\": [\"2020/05\", \"2020/06\", \"2020/07\", \"2020/08\", \"2020/09\", \"2020/10\", \"2020/11\", \"2020/12\", \"2021/01\"], \"y\": [535210, 3716360, 1307950, 280300, 1298820, 104720, 2891940, 152550, 324970]}, {\"line\": {\"color\": \"#c0ebd7\"}, \"mode\": \"lines+markers\", \"name\": \"zzy\", \"type\": \"scatter\", \"x\": [\"2020/05\", \"2020/06\", \"2020/07\", \"2020/08\", \"2020/09\", \"2020/10\", \"2020/11\", \"2020/12\", \"2021/01\"], \"y\": [145940, 2614120, 189670, 1343310, 76620, 61070, 1516210, 51210, 166510]}, {\"line\": {\"color\": \"#FC766A\"}, \"mode\": \"lines+markers\", \"name\": \"yhx\", \"type\": \"scatter\", \"x\": [\"2020/05\", \"2020/06\", \"2020/07\", \"2020/08\", \"2020/09\", \"2020/10\", \"2020/11\", \"2020/12\", \"2021/01\"], \"y\": [256550, 2135550, 527890, 1369720, 80090, 50680, 55560, 54180, 250750]}, {\"line\": {\"color\": \"#add5a2\"}, \"mode\": \"lines+markers\", \"name\": \"hjl\", \"type\": \"scatter\", \"x\": [\"2020/05\", \"2020/06\", \"2020/07\", \"2020/08\", \"2020/09\", \"2020/10\", \"2020/11\", \"2020/12\", \"2021/01\"], \"y\": [292850, 2203570, 562690, 235680, 74210, 52180, 66110, 46460, 174040]}, {\"marker\": {\"color\": \"#808080\", \"size\": 10}, \"mode\": \"markers+text\", \"showlegend\": false, \"text\": [\"lyw\"], \"textposition\": \"top center\", \"type\": \"scatter\", \"x\": [\"2020/05\"], \"y\": [535210]}, {\"marker\": {\"color\": \"#808080\", \"size\": 10}, \"mode\": \"markers+text\", \"showlegend\": false, \"text\": [\"lyw\"], \"textposition\": \"top center\", \"type\": \"scatter\", \"x\": [\"2020/06\"], \"y\": [3716360]}, {\"marker\": {\"color\": \"#FFD700\", \"size\": 10}, \"mode\": \"markers+text\", \"showlegend\": false, \"text\": [\"dcx\"], \"textposition\": \"top center\", \"type\": \"scatter\", \"x\": [\"2020/07\"], \"y\": [2807210]}, {\"marker\": {\"color\": \"#FC766A\", \"size\": 10}, \"mode\": \"markers+text\", \"showlegend\": false, \"text\": [\"yhx\"], \"textposition\": \"top center\", \"type\": \"scatter\", \"x\": [\"2020/08\"], \"y\": [1369720]}, {\"marker\": {\"color\": \"#808080\", \"size\": 10}, \"mode\": \"markers+text\", \"showlegend\": false, \"text\": [\"lyw\"], \"textposition\": \"top center\", \"type\": \"scatter\", \"x\": [\"2020/09\"], \"y\": [1298820]}, {\"marker\": {\"color\": \"#63C5DE\", \"size\": 10}, \"mode\": \"markers+text\", \"showlegend\": false, \"text\": [\"syx\"], \"textposition\": \"top center\", \"type\": \"scatter\", \"x\": [\"2020/10\"], \"y\": [2817900]}, {\"marker\": {\"color\": \"#808080\", \"size\": 10}, \"mode\": \"markers+text\", \"showlegend\": false, \"text\": [\"lyw\"], \"textposition\": \"top center\", \"type\": \"scatter\", \"x\": [\"2020/11\"], \"y\": [2891940]}, {\"marker\": {\"color\": \"#B399FF\", \"size\": 10}, \"mode\": \"markers+text\", \"showlegend\": false, \"text\": [\"mjq\"], \"textposition\": \"top center\", \"type\": \"scatter\", \"x\": [\"2020/12\"], \"y\": [2615650]}, {\"marker\": {\"color\": \"#63C5DE\", \"size\": 10}, \"mode\": \"markers+text\", \"showlegend\": false, \"text\": [\"syx\"], \"textposition\": \"top center\", \"type\": \"scatter\", \"x\": [\"2021/01\"], \"y\": [1620830]}],\n",
       "                        {\"template\": {\"data\": {\"bar\": [{\"error_x\": {\"color\": \"#2a3f5f\"}, \"error_y\": {\"color\": \"#2a3f5f\"}, \"marker\": {\"line\": {\"color\": \"white\", \"width\": 0.5}}, \"type\": \"bar\"}], \"barpolar\": [{\"marker\": {\"line\": {\"color\": \"white\", \"width\": 0.5}}, \"type\": \"barpolar\"}], \"carpet\": [{\"aaxis\": {\"endlinecolor\": \"#2a3f5f\", \"gridcolor\": \"#C8D4E3\", \"linecolor\": \"#C8D4E3\", \"minorgridcolor\": \"#C8D4E3\", \"startlinecolor\": \"#2a3f5f\"}, \"baxis\": {\"endlinecolor\": \"#2a3f5f\", \"gridcolor\": \"#C8D4E3\", \"linecolor\": \"#C8D4E3\", \"minorgridcolor\": \"#C8D4E3\", \"startlinecolor\": \"#2a3f5f\"}, \"type\": \"carpet\"}], \"choropleth\": [{\"colorbar\": {\"outlinewidth\": 0, \"ticks\": \"\"}, \"type\": \"choropleth\"}], \"contour\": [{\"colorbar\": {\"outlinewidth\": 0, \"ticks\": \"\"}, \"colorscale\": [[0.0, \"#0d0887\"], [0.1111111111111111, \"#46039f\"], [0.2222222222222222, \"#7201a8\"], [0.3333333333333333, \"#9c179e\"], [0.4444444444444444, \"#bd3786\"], [0.5555555555555556, \"#d8576b\"], [0.6666666666666666, \"#ed7953\"], [0.7777777777777778, \"#fb9f3a\"], [0.8888888888888888, \"#fdca26\"], [1.0, \"#f0f921\"]], \"type\": \"contour\"}], \"contourcarpet\": [{\"colorbar\": {\"outlinewidth\": 0, \"ticks\": \"\"}, \"type\": \"contourcarpet\"}], \"heatmap\": [{\"colorbar\": {\"outlinewidth\": 0, \"ticks\": \"\"}, \"colorscale\": [[0.0, \"#0d0887\"], [0.1111111111111111, \"#46039f\"], [0.2222222222222222, \"#7201a8\"], [0.3333333333333333, \"#9c179e\"], [0.4444444444444444, \"#bd3786\"], [0.5555555555555556, \"#d8576b\"], [0.6666666666666666, \"#ed7953\"], [0.7777777777777778, \"#fb9f3a\"], [0.8888888888888888, \"#fdca26\"], [1.0, \"#f0f921\"]], \"type\": \"heatmap\"}], \"heatmapgl\": [{\"colorbar\": {\"outlinewidth\": 0, \"ticks\": \"\"}, \"colorscale\": [[0.0, \"#0d0887\"], [0.1111111111111111, \"#46039f\"], [0.2222222222222222, \"#7201a8\"], [0.3333333333333333, \"#9c179e\"], [0.4444444444444444, \"#bd3786\"], [0.5555555555555556, \"#d8576b\"], [0.6666666666666666, \"#ed7953\"], [0.7777777777777778, \"#fb9f3a\"], [0.8888888888888888, \"#fdca26\"], [1.0, \"#f0f921\"]], \"type\": \"heatmapgl\"}], \"histogram\": [{\"marker\": {\"colorbar\": {\"outlinewidth\": 0, \"ticks\": \"\"}}, \"type\": \"histogram\"}], \"histogram2d\": [{\"colorbar\": {\"outlinewidth\": 0, \"ticks\": \"\"}, \"colorscale\": [[0.0, \"#0d0887\"], [0.1111111111111111, \"#46039f\"], [0.2222222222222222, \"#7201a8\"], [0.3333333333333333, \"#9c179e\"], [0.4444444444444444, \"#bd3786\"], [0.5555555555555556, \"#d8576b\"], [0.6666666666666666, \"#ed7953\"], [0.7777777777777778, \"#fb9f3a\"], [0.8888888888888888, \"#fdca26\"], [1.0, \"#f0f921\"]], \"type\": \"histogram2d\"}], \"histogram2dcontour\": [{\"colorbar\": {\"outlinewidth\": 0, \"ticks\": \"\"}, \"colorscale\": [[0.0, \"#0d0887\"], [0.1111111111111111, \"#46039f\"], [0.2222222222222222, \"#7201a8\"], [0.3333333333333333, \"#9c179e\"], [0.4444444444444444, \"#bd3786\"], [0.5555555555555556, \"#d8576b\"], [0.6666666666666666, \"#ed7953\"], [0.7777777777777778, \"#fb9f3a\"], [0.8888888888888888, \"#fdca26\"], [1.0, \"#f0f921\"]], \"type\": \"histogram2dcontour\"}], \"mesh3d\": [{\"colorbar\": {\"outlinewidth\": 0, \"ticks\": \"\"}, \"type\": \"mesh3d\"}], \"parcoords\": [{\"line\": {\"colorbar\": {\"outlinewidth\": 0, \"ticks\": \"\"}}, \"type\": \"parcoords\"}], \"pie\": [{\"automargin\": true, \"type\": \"pie\"}], \"scatter\": [{\"marker\": {\"colorbar\": {\"outlinewidth\": 0, \"ticks\": \"\"}}, \"type\": \"scatter\"}], \"scatter3d\": [{\"line\": {\"colorbar\": {\"outlinewidth\": 0, \"ticks\": \"\"}}, \"marker\": {\"colorbar\": {\"outlinewidth\": 0, \"ticks\": \"\"}}, \"type\": \"scatter3d\"}], \"scattercarpet\": [{\"marker\": {\"colorbar\": {\"outlinewidth\": 0, \"ticks\": \"\"}}, \"type\": \"scattercarpet\"}], \"scattergeo\": [{\"marker\": {\"colorbar\": {\"outlinewidth\": 0, \"ticks\": \"\"}}, \"type\": \"scattergeo\"}], \"scattergl\": [{\"marker\": {\"colorbar\": {\"outlinewidth\": 0, \"ticks\": \"\"}}, \"type\": \"scattergl\"}], \"scattermapbox\": [{\"marker\": {\"colorbar\": {\"outlinewidth\": 0, \"ticks\": \"\"}}, \"type\": \"scattermapbox\"}], \"scatterpolar\": [{\"marker\": {\"colorbar\": {\"outlinewidth\": 0, \"ticks\": \"\"}}, \"type\": \"scatterpolar\"}], \"scatterpolargl\": [{\"marker\": {\"colorbar\": {\"outlinewidth\": 0, \"ticks\": \"\"}}, \"type\": \"scatterpolargl\"}], \"scatterternary\": [{\"marker\": {\"colorbar\": {\"outlinewidth\": 0, \"ticks\": \"\"}}, \"type\": \"scatterternary\"}], \"surface\": [{\"colorbar\": {\"outlinewidth\": 0, \"ticks\": \"\"}, \"colorscale\": [[0.0, \"#0d0887\"], [0.1111111111111111, \"#46039f\"], [0.2222222222222222, \"#7201a8\"], [0.3333333333333333, \"#9c179e\"], [0.4444444444444444, \"#bd3786\"], [0.5555555555555556, \"#d8576b\"], [0.6666666666666666, \"#ed7953\"], [0.7777777777777778, \"#fb9f3a\"], [0.8888888888888888, \"#fdca26\"], [1.0, \"#f0f921\"]], \"type\": \"surface\"}], \"table\": [{\"cells\": {\"fill\": {\"color\": \"#EBF0F8\"}, \"line\": {\"color\": \"white\"}}, \"header\": {\"fill\": {\"color\": \"#C8D4E3\"}, \"line\": {\"color\": \"white\"}}, \"type\": \"table\"}]}, \"layout\": {\"annotationdefaults\": {\"arrowcolor\": \"#2a3f5f\", \"arrowhead\": 0, \"arrowwidth\": 1}, \"coloraxis\": {\"colorbar\": {\"outlinewidth\": 0, \"ticks\": \"\"}}, \"colorscale\": {\"diverging\": [[0, \"#8e0152\"], [0.1, \"#c51b7d\"], [0.2, \"#de77ae\"], [0.3, \"#f1b6da\"], [0.4, \"#fde0ef\"], [0.5, \"#f7f7f7\"], [0.6, \"#e6f5d0\"], [0.7, \"#b8e186\"], [0.8, \"#7fbc41\"], [0.9, \"#4d9221\"], [1, \"#276419\"]], \"sequential\": [[0.0, \"#0d0887\"], [0.1111111111111111, \"#46039f\"], [0.2222222222222222, \"#7201a8\"], [0.3333333333333333, \"#9c179e\"], [0.4444444444444444, \"#bd3786\"], [0.5555555555555556, \"#d8576b\"], [0.6666666666666666, \"#ed7953\"], [0.7777777777777778, \"#fb9f3a\"], [0.8888888888888888, \"#fdca26\"], [1.0, \"#f0f921\"]], \"sequentialminus\": [[0.0, \"#0d0887\"], [0.1111111111111111, \"#46039f\"], [0.2222222222222222, \"#7201a8\"], [0.3333333333333333, \"#9c179e\"], [0.4444444444444444, \"#bd3786\"], [0.5555555555555556, \"#d8576b\"], [0.6666666666666666, \"#ed7953\"], [0.7777777777777778, \"#fb9f3a\"], [0.8888888888888888, \"#fdca26\"], [1.0, \"#f0f921\"]]}, \"colorway\": [\"#636efa\", \"#EF553B\", \"#00cc96\", \"#ab63fa\", \"#FFA15A\", \"#19d3f3\", \"#FF6692\", \"#B6E880\", \"#FF97FF\", \"#FECB52\"], \"font\": {\"color\": \"#2a3f5f\"}, \"geo\": {\"bgcolor\": \"white\", \"lakecolor\": \"white\", \"landcolor\": \"white\", \"showlakes\": true, \"showland\": true, \"subunitcolor\": \"#C8D4E3\"}, \"hoverlabel\": {\"align\": \"left\"}, \"hovermode\": \"closest\", \"mapbox\": {\"style\": \"light\"}, \"paper_bgcolor\": \"white\", \"plot_bgcolor\": \"white\", \"polar\": {\"angularaxis\": {\"gridcolor\": \"#EBF0F8\", \"linecolor\": \"#EBF0F8\", \"ticks\": \"\"}, \"bgcolor\": \"white\", \"radialaxis\": {\"gridcolor\": \"#EBF0F8\", \"linecolor\": \"#EBF0F8\", \"ticks\": \"\"}}, \"scene\": {\"xaxis\": {\"backgroundcolor\": \"white\", \"gridcolor\": \"#DFE8F3\", \"gridwidth\": 2, \"linecolor\": \"#EBF0F8\", \"showbackground\": true, \"ticks\": \"\", \"zerolinecolor\": \"#EBF0F8\"}, \"yaxis\": {\"backgroundcolor\": \"white\", \"gridcolor\": \"#DFE8F3\", \"gridwidth\": 2, \"linecolor\": \"#EBF0F8\", \"showbackground\": true, \"ticks\": \"\", \"zerolinecolor\": \"#EBF0F8\"}, \"zaxis\": {\"backgroundcolor\": \"white\", \"gridcolor\": \"#DFE8F3\", \"gridwidth\": 2, \"linecolor\": \"#EBF0F8\", \"showbackground\": true, \"ticks\": \"\", \"zerolinecolor\": \"#EBF0F8\"}}, \"shapedefaults\": {\"line\": {\"color\": \"#2a3f5f\"}}, \"ternary\": {\"aaxis\": {\"gridcolor\": \"#DFE8F3\", \"linecolor\": \"#A2B1C6\", \"ticks\": \"\"}, \"baxis\": {\"gridcolor\": \"#DFE8F3\", \"linecolor\": \"#A2B1C6\", \"ticks\": \"\"}, \"bgcolor\": \"white\", \"caxis\": {\"gridcolor\": \"#DFE8F3\", \"linecolor\": \"#A2B1C6\", \"ticks\": \"\"}}, \"title\": {\"x\": 0.05}, \"xaxis\": {\"automargin\": true, \"gridcolor\": \"#EBF0F8\", \"linecolor\": \"#EBF0F8\", \"ticks\": \"\", \"title\": {\"standoff\": 15}, \"zerolinecolor\": \"#EBF0F8\", \"zerolinewidth\": 2}, \"yaxis\": {\"automargin\": true, \"gridcolor\": \"#EBF0F8\", \"linecolor\": \"#EBF0F8\", \"ticks\": \"\", \"title\": {\"standoff\": 15}, \"zerolinecolor\": \"#EBF0F8\", \"zerolinewidth\": 2}}}, \"title\": {\"text\": \"2020/05 - 2021/02 \\u660e\\u661f\\u4e3b\\u9875\\u5c0f\\u8475\\u82b1\\u6570\\u91cf\\u53d8\\u5316\"}, \"xaxis\": {\"title\": {\"text\": \"\\u6708\"}}, \"yaxis\": {\"title\": {\"text\": \"\\u5c0f\\u8475\\u82b1\"}}},\n",
       "                        {\"responsive\": true}\n",
       "                    ).then(function(){\n",
       "                            \n",
       "var gd = document.getElementById('cc6ddfc8-cef1-49ed-8631-1f712a734e00');\n",
       "var x = new MutationObserver(function (mutations, observer) {{\n",
       "        var display = window.getComputedStyle(gd).display;\n",
       "        if (!display || display === 'none') {{\n",
       "            console.log([gd, 'removed!']);\n",
       "            Plotly.purge(gd);\n",
       "            observer.disconnect();\n",
       "        }}\n",
       "}});\n",
       "\n",
       "// Listen for the removal of the full notebook cells\n",
       "var notebookContainer = gd.closest('#notebook-container');\n",
       "if (notebookContainer) {{\n",
       "    x.observe(notebookContainer, {childList: true});\n",
       "}}\n",
       "\n",
       "// Listen for the clearing of the current output cell\n",
       "var outputEl = gd.closest('.output');\n",
       "if (outputEl) {{\n",
       "    x.observe(outputEl, {childList: true});\n",
       "}}\n",
       "\n",
       "                        })\n",
       "                };\n",
       "                });\n",
       "            </script>\n",
       "        </div>"
      ]
     },
     "metadata": {},
     "output_type": "display_data"
    },
    {
     "data": {
      "text/plain": [
       "'https://plotly.com/~yyyyyokoko1/20/'"
      ]
     },
     "execution_count": 216,
     "metadata": {},
     "output_type": "execute_result"
    }
   ],
   "source": [
    "fig = go.Figure()\n",
    "\n",
    "for i in range(len(columns)):\n",
    "    fig.add_trace(go.Scatter(x=trend.date, y=trend[columns[i]],\n",
    "                        mode='lines+markers',\n",
    "                        name=columns[i], \n",
    "                        line = {'color': color[i]}))\n",
    "\n",
    "for i in range(len(trend.date.values)):\n",
    "    columnname =  trend.winner[i]\n",
    "    fig.add_trace(go.Scatter(x=[trend.date.values[i]], \n",
    "                             y=trend.loc[trend.date == trend.date.values[i], str(columnname)].values,\n",
    "                            text = [trend.winner.values[i]],\n",
    "                            mode='markers+text',\n",
    "                            textposition=\"top center\",\n",
    "                            marker=dict(size=10, \n",
    "                                       color = color2[columnname], \n",
    "                                       ),\n",
    "                             showlegend = False\n",
    "                        ))\n",
    "\n",
    "\n",
    "fig.update_layout(title='2020/05 - 2021/02 明星主页小葵花数量变化',\n",
    "                  xaxis_title='月',\n",
    "                  yaxis_title='小葵花',\n",
    "                  template=\"plotly_white\")\n",
    "\n",
    "\n",
    "fig.show()\n",
    "\n",
    "py.plot(fig, filename = 'starpage', auto_open=False)\n"
   ]
  },
  {
   "cell_type": "code",
   "execution_count": 282,
   "metadata": {},
   "outputs": [
    {
     "data": {
      "text/html": [
       "<div>\n",
       "<style scoped>\n",
       "    .dataframe tbody tr th:only-of-type {\n",
       "        vertical-align: middle;\n",
       "    }\n",
       "\n",
       "    .dataframe tbody tr th {\n",
       "        vertical-align: top;\n",
       "    }\n",
       "\n",
       "    .dataframe thead th {\n",
       "        text-align: right;\n",
       "    }\n",
       "</style>\n",
       "<table border=\"1\" class=\"dataframe\">\n",
       "  <thead>\n",
       "    <tr style=\"text-align: right;\">\n",
       "      <th></th>\n",
       "      <th>rank</th>\n",
       "      <th>tnt_name</th>\n",
       "      <th>tnt_sunflower</th>\n",
       "      <th>mjq_name</th>\n",
       "      <th>mjq_sunflower</th>\n",
       "      <th>dcx_name</th>\n",
       "      <th>dcx_sunflower</th>\n",
       "      <th>syx_name</th>\n",
       "      <th>syx_sunflower</th>\n",
       "      <th>lyw_name</th>\n",
       "      <th>lyw_sunflower</th>\n",
       "      <th>zzy_name</th>\n",
       "      <th>zzy_sunflower</th>\n",
       "      <th>yhx_name</th>\n",
       "      <th>yhx_sunflower</th>\n",
       "      <th>hjl_name</th>\n",
       "      <th>hjl_sunflower</th>\n",
       "    </tr>\n",
       "  </thead>\n",
       "  <tbody>\n",
       "    <tr>\n",
       "      <th>0</th>\n",
       "      <td>1</td>\n",
       "      <td>萱哥不是萱哥哦</td>\n",
       "      <td>14400</td>\n",
       "      <td>赛利好饿</td>\n",
       "      <td>15000</td>\n",
       "      <td>抓鑫鑫煮粥</td>\n",
       "      <td>150000</td>\n",
       "      <td>我的大名叫盖亚</td>\n",
       "      <td>15000</td>\n",
       "      <td>小文叮咚</td>\n",
       "      <td>32740</td>\n",
       "      <td>在魔都吃土养小孩.</td>\n",
       "      <td>16020</td>\n",
       "      <td>那我装得像啊</td>\n",
       "      <td>20000</td>\n",
       "      <td>小贺哥哥的老公</td>\n",
       "      <td>10000</td>\n",
       "    </tr>\n",
       "    <tr>\n",
       "      <th>1</th>\n",
       "      <td>2</td>\n",
       "      <td>做人不要太李飞</td>\n",
       "      <td>12100</td>\n",
       "      <td>是小马激光阿</td>\n",
       "      <td>11550</td>\n",
       "      <td>里拉的唯一小福鑫</td>\n",
       "      <td>100000</td>\n",
       "      <td>轩轩成长快乐</td>\n",
       "      <td>10010</td>\n",
       "      <td>yaaaa_</td>\n",
       "      <td>30370</td>\n",
       "      <td>单纯冲着玩一下</td>\n",
       "      <td>14160</td>\n",
       "      <td>小白菜心里甜</td>\n",
       "      <td>11440</td>\n",
       "      <td>小贺哥哥的老婆</td>\n",
       "      <td>6220</td>\n",
       "    </tr>\n",
       "    <tr>\n",
       "      <th>2</th>\n",
       "      <td>3</td>\n",
       "      <td>小米乐</td>\n",
       "      <td>11950</td>\n",
       "      <td>小书配祺</td>\n",
       "      <td>8710</td>\n",
       "      <td>宝宝最可爱！</td>\n",
       "      <td>88880</td>\n",
       "      <td>单纯冲着玩一下</td>\n",
       "      <td>6000</td>\n",
       "      <td>读秒也争气</td>\n",
       "      <td>19230</td>\n",
       "      <td>Junnnnnnie</td>\n",
       "      <td>10000</td>\n",
       "      <td>多吃晚饭</td>\n",
       "      <td>10170</td>\n",
       "      <td>小贺哥哥保佑我大学合格</td>\n",
       "      <td>6030</td>\n",
       "    </tr>\n",
       "    <tr>\n",
       "      <th>3</th>\n",
       "      <td>4</td>\n",
       "      <td>阿捷</td>\n",
       "      <td>11950</td>\n",
       "      <td>大表姐</td>\n",
       "      <td>6660</td>\n",
       "      <td>肉丸也爱喜喜</td>\n",
       "      <td>55000</td>\n",
       "      <td>世界上哪有奥特曼嘛</td>\n",
       "      <td>5520</td>\n",
       "      <td>给宝贝的压岁钱</td>\n",
       "      <td>7150</td>\n",
       "      <td>天王老子来了我都是美女</td>\n",
       "      <td>6030</td>\n",
       "      <td>二薇薇二</td>\n",
       "      <td>6000</td>\n",
       "      <td>兔兔好吃吗</td>\n",
       "      <td>4720</td>\n",
       "    </tr>\n",
       "    <tr>\n",
       "      <th>4</th>\n",
       "      <td>5</td>\n",
       "      <td>求求您了！</td>\n",
       "      <td>11410</td>\n",
       "      <td>小马是乖宝宝</td>\n",
       "      <td>5290</td>\n",
       "      <td>喜帝爱肉丸</td>\n",
       "      <td>52240</td>\n",
       "      <td>谷惑崽</td>\n",
       "      <td>5500</td>\n",
       "      <td>·抱走吻文·</td>\n",
       "      <td>6100</td>\n",
       "      <td>真真不戳</td>\n",
       "      <td>5020</td>\n",
       "      <td>请公平对待严浩翔</td>\n",
       "      <td>5000</td>\n",
       "      <td>有富婆把我弄下去吗</td>\n",
       "      <td>4200</td>\n",
       "    </tr>\n",
       "  </tbody>\n",
       "</table>\n",
       "</div>"
      ],
      "text/plain": [
       "   rank tnt_name  tnt_sunflower mjq_name  mjq_sunflower  dcx_name  \\\n",
       "0     1  萱哥不是萱哥哦          14400     赛利好饿          15000     抓鑫鑫煮粥   \n",
       "1     2  做人不要太李飞          12100   是小马激光阿          11550  里拉的唯一小福鑫   \n",
       "2     3      小米乐          11950     小书配祺           8710    宝宝最可爱！   \n",
       "3     4       阿捷          11950      大表姐           6660    肉丸也爱喜喜   \n",
       "4     5    求求您了！          11410   小马是乖宝宝           5290     喜帝爱肉丸   \n",
       "\n",
       "   dcx_sunflower   syx_name  syx_sunflower lyw_name  lyw_sunflower  \\\n",
       "0         150000    我的大名叫盖亚          15000     小文叮咚          32740   \n",
       "1         100000     轩轩成长快乐          10010   yaaaa_          30370   \n",
       "2          88880    单纯冲着玩一下           6000    读秒也争气          19230   \n",
       "3          55000  世界上哪有奥特曼嘛           5520  给宝贝的压岁钱           7150   \n",
       "4          52240        谷惑崽           5500   ·抱走吻文·           6100   \n",
       "\n",
       "      zzy_name  zzy_sunflower  yhx_name  yhx_sunflower     hjl_name  \\\n",
       "0    在魔都吃土养小孩.          16020    那我装得像啊          20000      小贺哥哥的老公   \n",
       "1      单纯冲着玩一下          14160    小白菜心里甜          11440      小贺哥哥的老婆   \n",
       "2   Junnnnnnie          10000      多吃晚饭          10170  小贺哥哥保佑我大学合格   \n",
       "3  天王老子来了我都是美女           6030      二薇薇二           6000        兔兔好吃吗   \n",
       "4         真真不戳           5020  请公平对待严浩翔           5000    有富婆把我弄下去吗   \n",
       "\n",
       "   hjl_sunflower  \n",
       "0          10000  \n",
       "1           6220  \n",
       "2           6030  \n",
       "3           4720  \n",
       "4           4200  "
      ]
     },
     "execution_count": 282,
     "metadata": {},
     "output_type": "execute_result"
    }
   ],
   "source": [
    "df = pd.read_csv('二月小葵明星主页/starPage_2021_02_05_12_33.csv')\n",
    "df.head()"
   ]
  },
  {
   "cell_type": "code",
   "execution_count": 283,
   "metadata": {},
   "outputs": [],
   "source": [
    "columns = [i for i in df.columns if re.search(r\"_name*\", i) is not None ]"
   ]
  },
  {
   "cell_type": "code",
   "execution_count": 301,
   "metadata": {},
   "outputs": [],
   "source": [
    "intersect = pd.DataFrame(columns =['source', 'target', 'value'])\n",
    "\n",
    "for i in range(len(columns)):\n",
    "    for j in range(len(columns)):\n",
    "        if i != j:\n",
    "            record = pd.DataFrame([[columns[i][:-5], columns[j][:-5], len(list(set(df[columns[i]]).intersection(set(df[columns[j]]))))]], columns = ['source', 'target', 'value'])\n",
    "            intersect = intersect.append(record, ignore_index=True)\n",
    "\n",
    "for i in intersect.source.unique():\n",
    "    record = pd.DataFrame([[i, i, 100 - intersect.loc[intersect['source'] == i, 'value'].sum()]], columns = ['source', 'target', 'value'])\n",
    "    intersect = intersect.append(record, ignore_index=True)\n",
    "    \n",
    "intersect['percent'] =intersect['value'] /100\n"
   ]
  },
  {
   "cell_type": "code",
   "execution_count": null,
   "metadata": {},
   "outputs": [],
   "source": []
  },
  {
   "cell_type": "code",
   "execution_count": 302,
   "metadata": {},
   "outputs": [],
   "source": [
    "#sort values\n",
    "names =  [\"tnt\", \"mjq\", \"dcx\", \"syx\", \"lyw\", \"zzy\", \"yhx\", \"hjl\"]\n",
    "intersect['source'] = pd.Categorical(intersect['source'], names)\n",
    "intersect = intersect.sort_values(\"source\")\n"
   ]
  },
  {
   "cell_type": "code",
   "execution_count": 303,
   "metadata": {},
   "outputs": [
    {
     "data": {
      "application/vnd.plotly.v1+json": {
       "config": {
        "plotlyServerURL": "https://plot.ly"
       },
       "data": [
        {
         "alignmentgroup": "True",
         "hovertemplate": "target=mjq<br>source=%{x}<br>value=%{y}<br>percent=%{text}<extra></extra>",
         "legendgroup": "mjq",
         "marker": {
          "color": "#B399FF"
         },
         "name": "mjq",
         "offsetgroup": "mjq",
         "orientation": "v",
         "showlegend": true,
         "text": [
          0.11,
          0.58,
          0,
          0.05,
          0.06,
          0.06,
          0.07,
          0.07
         ],
         "textposition": "auto",
         "texttemplate": "%{text:%}",
         "type": "bar",
         "x": [
          "tnt",
          "mjq",
          "dcx",
          "syx",
          "lyw",
          "zzy",
          "yhx",
          "hjl"
         ],
         "xaxis": "x",
         "y": [
          11,
          58,
          0,
          5,
          6,
          6,
          7,
          7
         ],
         "yaxis": "y"
        },
        {
         "alignmentgroup": "True",
         "hovertemplate": "target=dcx<br>source=%{x}<br>value=%{y}<br>percent=%{text}<extra></extra>",
         "legendgroup": "dcx",
         "marker": {
          "color": "#FFD700"
         },
         "name": "dcx",
         "offsetgroup": "dcx",
         "orientation": "v",
         "showlegend": true,
         "text": [
          0.01,
          0,
          0.97,
          0,
          0.02,
          0,
          0,
          0
         ],
         "textposition": "auto",
         "texttemplate": "%{text:%}",
         "type": "bar",
         "x": [
          "tnt",
          "mjq",
          "dcx",
          "syx",
          "lyw",
          "zzy",
          "yhx",
          "hjl"
         ],
         "xaxis": "x",
         "y": [
          1,
          0,
          97,
          0,
          2,
          0,
          0,
          0
         ],
         "yaxis": "y"
        },
        {
         "alignmentgroup": "True",
         "hovertemplate": "target=syx<br>source=%{x}<br>value=%{y}<br>percent=%{text}<extra></extra>",
         "legendgroup": "syx",
         "marker": {
          "color": "#63C5DE"
         },
         "name": "syx",
         "offsetgroup": "syx",
         "orientation": "v",
         "showlegend": true,
         "text": [
          0.11,
          0.05,
          0,
          0.53,
          0.09,
          0.12,
          0.05,
          0.05
         ],
         "textposition": "auto",
         "texttemplate": "%{text:%}",
         "type": "bar",
         "x": [
          "tnt",
          "mjq",
          "dcx",
          "syx",
          "lyw",
          "zzy",
          "yhx",
          "hjl"
         ],
         "xaxis": "x",
         "y": [
          11,
          5,
          0,
          53,
          9,
          12,
          5,
          5
         ],
         "yaxis": "y"
        },
        {
         "alignmentgroup": "True",
         "hovertemplate": "target=lyw<br>source=%{x}<br>value=%{y}<br>percent=%{text}<extra></extra>",
         "legendgroup": "lyw",
         "marker": {
          "color": "#808080"
         },
         "name": "lyw",
         "offsetgroup": "lyw",
         "orientation": "v",
         "showlegend": true,
         "text": [
          0.11,
          0.06,
          0.02,
          0.09,
          0.51,
          0.06,
          0.1,
          0.05
         ],
         "textposition": "auto",
         "texttemplate": "%{text:%}",
         "type": "bar",
         "x": [
          "tnt",
          "mjq",
          "dcx",
          "syx",
          "lyw",
          "zzy",
          "yhx",
          "hjl"
         ],
         "xaxis": "x",
         "y": [
          11,
          6,
          2,
          9,
          51,
          6,
          10,
          5
         ],
         "yaxis": "y"
        },
        {
         "alignmentgroup": "True",
         "hovertemplate": "target=zzy<br>source=%{x}<br>value=%{y}<br>percent=%{text}<extra></extra>",
         "legendgroup": "zzy",
         "marker": {
          "color": "#c0ebd7"
         },
         "name": "zzy",
         "offsetgroup": "zzy",
         "orientation": "v",
         "showlegend": true,
         "text": [
          0.08,
          0.06,
          0,
          0.12,
          0.06,
          0.52,
          0.07,
          0.09
         ],
         "textposition": "auto",
         "texttemplate": "%{text:%}",
         "type": "bar",
         "x": [
          "tnt",
          "mjq",
          "dcx",
          "syx",
          "lyw",
          "zzy",
          "yhx",
          "hjl"
         ],
         "xaxis": "x",
         "y": [
          8,
          6,
          0,
          12,
          6,
          52,
          7,
          9
         ],
         "yaxis": "y"
        },
        {
         "alignmentgroup": "True",
         "hovertemplate": "target=yhx<br>source=%{x}<br>value=%{y}<br>percent=%{text}<extra></extra>",
         "legendgroup": "yhx",
         "marker": {
          "color": "#FC766A"
         },
         "name": "yhx",
         "offsetgroup": "yhx",
         "orientation": "v",
         "showlegend": true,
         "text": [
          0.09,
          0.07,
          0,
          0.05,
          0.1,
          0.07,
          0.52,
          0.1
         ],
         "textposition": "auto",
         "texttemplate": "%{text:%}",
         "type": "bar",
         "x": [
          "tnt",
          "mjq",
          "dcx",
          "syx",
          "lyw",
          "zzy",
          "yhx",
          "hjl"
         ],
         "xaxis": "x",
         "y": [
          9,
          7,
          0,
          5,
          10,
          7,
          52,
          10
         ],
         "yaxis": "y"
        },
        {
         "alignmentgroup": "True",
         "hovertemplate": "target=hjl<br>source=%{x}<br>value=%{y}<br>percent=%{text}<extra></extra>",
         "legendgroup": "hjl",
         "marker": {
          "color": "#add5a2"
         },
         "name": "hjl",
         "offsetgroup": "hjl",
         "orientation": "v",
         "showlegend": true,
         "text": [
          0.09,
          0.07,
          0,
          0.05,
          0.05,
          0.09,
          0.1,
          0.55
         ],
         "textposition": "auto",
         "texttemplate": "%{text:%}",
         "type": "bar",
         "x": [
          "tnt",
          "mjq",
          "dcx",
          "syx",
          "lyw",
          "zzy",
          "yhx",
          "hjl"
         ],
         "xaxis": "x",
         "y": [
          9,
          7,
          0,
          5,
          5,
          9,
          10,
          55
         ],
         "yaxis": "y"
        },
        {
         "alignmentgroup": "True",
         "hovertemplate": "target=tnt<br>source=%{x}<br>value=%{y}<br>percent=%{text}<extra></extra>",
         "legendgroup": "tnt",
         "marker": {
          "color": "#000000"
         },
         "name": "tnt",
         "offsetgroup": "tnt",
         "orientation": "v",
         "showlegend": true,
         "text": [
          0.4,
          0.11,
          0.01,
          0.11,
          0.11,
          0.08,
          0.09,
          0.09
         ],
         "textposition": "auto",
         "texttemplate": "%{text:%}",
         "type": "bar",
         "x": [
          "tnt",
          "mjq",
          "dcx",
          "syx",
          "lyw",
          "zzy",
          "yhx",
          "hjl"
         ],
         "xaxis": "x",
         "y": [
          40,
          11,
          1,
          11,
          11,
          8,
          9,
          9
         ],
         "yaxis": "y"
        }
       ],
       "layout": {
        "barmode": "relative",
        "legend": {
         "title": {
          "text": "名字"
         },
         "tracegroupgap": 0
        },
        "margin": {
         "t": 60
        },
        "template": {
         "data": {
          "bar": [
           {
            "error_x": {
             "color": "#2a3f5f"
            },
            "error_y": {
             "color": "#2a3f5f"
            },
            "marker": {
             "line": {
              "color": "white",
              "width": 0.5
             }
            },
            "type": "bar"
           }
          ],
          "barpolar": [
           {
            "marker": {
             "line": {
              "color": "white",
              "width": 0.5
             }
            },
            "type": "barpolar"
           }
          ],
          "carpet": [
           {
            "aaxis": {
             "endlinecolor": "#2a3f5f",
             "gridcolor": "#C8D4E3",
             "linecolor": "#C8D4E3",
             "minorgridcolor": "#C8D4E3",
             "startlinecolor": "#2a3f5f"
            },
            "baxis": {
             "endlinecolor": "#2a3f5f",
             "gridcolor": "#C8D4E3",
             "linecolor": "#C8D4E3",
             "minorgridcolor": "#C8D4E3",
             "startlinecolor": "#2a3f5f"
            },
            "type": "carpet"
           }
          ],
          "choropleth": [
           {
            "colorbar": {
             "outlinewidth": 0,
             "ticks": ""
            },
            "type": "choropleth"
           }
          ],
          "contour": [
           {
            "colorbar": {
             "outlinewidth": 0,
             "ticks": ""
            },
            "colorscale": [
             [
              0,
              "#0d0887"
             ],
             [
              0.1111111111111111,
              "#46039f"
             ],
             [
              0.2222222222222222,
              "#7201a8"
             ],
             [
              0.3333333333333333,
              "#9c179e"
             ],
             [
              0.4444444444444444,
              "#bd3786"
             ],
             [
              0.5555555555555556,
              "#d8576b"
             ],
             [
              0.6666666666666666,
              "#ed7953"
             ],
             [
              0.7777777777777778,
              "#fb9f3a"
             ],
             [
              0.8888888888888888,
              "#fdca26"
             ],
             [
              1,
              "#f0f921"
             ]
            ],
            "type": "contour"
           }
          ],
          "contourcarpet": [
           {
            "colorbar": {
             "outlinewidth": 0,
             "ticks": ""
            },
            "type": "contourcarpet"
           }
          ],
          "heatmap": [
           {
            "colorbar": {
             "outlinewidth": 0,
             "ticks": ""
            },
            "colorscale": [
             [
              0,
              "#0d0887"
             ],
             [
              0.1111111111111111,
              "#46039f"
             ],
             [
              0.2222222222222222,
              "#7201a8"
             ],
             [
              0.3333333333333333,
              "#9c179e"
             ],
             [
              0.4444444444444444,
              "#bd3786"
             ],
             [
              0.5555555555555556,
              "#d8576b"
             ],
             [
              0.6666666666666666,
              "#ed7953"
             ],
             [
              0.7777777777777778,
              "#fb9f3a"
             ],
             [
              0.8888888888888888,
              "#fdca26"
             ],
             [
              1,
              "#f0f921"
             ]
            ],
            "type": "heatmap"
           }
          ],
          "heatmapgl": [
           {
            "colorbar": {
             "outlinewidth": 0,
             "ticks": ""
            },
            "colorscale": [
             [
              0,
              "#0d0887"
             ],
             [
              0.1111111111111111,
              "#46039f"
             ],
             [
              0.2222222222222222,
              "#7201a8"
             ],
             [
              0.3333333333333333,
              "#9c179e"
             ],
             [
              0.4444444444444444,
              "#bd3786"
             ],
             [
              0.5555555555555556,
              "#d8576b"
             ],
             [
              0.6666666666666666,
              "#ed7953"
             ],
             [
              0.7777777777777778,
              "#fb9f3a"
             ],
             [
              0.8888888888888888,
              "#fdca26"
             ],
             [
              1,
              "#f0f921"
             ]
            ],
            "type": "heatmapgl"
           }
          ],
          "histogram": [
           {
            "marker": {
             "colorbar": {
              "outlinewidth": 0,
              "ticks": ""
             }
            },
            "type": "histogram"
           }
          ],
          "histogram2d": [
           {
            "colorbar": {
             "outlinewidth": 0,
             "ticks": ""
            },
            "colorscale": [
             [
              0,
              "#0d0887"
             ],
             [
              0.1111111111111111,
              "#46039f"
             ],
             [
              0.2222222222222222,
              "#7201a8"
             ],
             [
              0.3333333333333333,
              "#9c179e"
             ],
             [
              0.4444444444444444,
              "#bd3786"
             ],
             [
              0.5555555555555556,
              "#d8576b"
             ],
             [
              0.6666666666666666,
              "#ed7953"
             ],
             [
              0.7777777777777778,
              "#fb9f3a"
             ],
             [
              0.8888888888888888,
              "#fdca26"
             ],
             [
              1,
              "#f0f921"
             ]
            ],
            "type": "histogram2d"
           }
          ],
          "histogram2dcontour": [
           {
            "colorbar": {
             "outlinewidth": 0,
             "ticks": ""
            },
            "colorscale": [
             [
              0,
              "#0d0887"
             ],
             [
              0.1111111111111111,
              "#46039f"
             ],
             [
              0.2222222222222222,
              "#7201a8"
             ],
             [
              0.3333333333333333,
              "#9c179e"
             ],
             [
              0.4444444444444444,
              "#bd3786"
             ],
             [
              0.5555555555555556,
              "#d8576b"
             ],
             [
              0.6666666666666666,
              "#ed7953"
             ],
             [
              0.7777777777777778,
              "#fb9f3a"
             ],
             [
              0.8888888888888888,
              "#fdca26"
             ],
             [
              1,
              "#f0f921"
             ]
            ],
            "type": "histogram2dcontour"
           }
          ],
          "mesh3d": [
           {
            "colorbar": {
             "outlinewidth": 0,
             "ticks": ""
            },
            "type": "mesh3d"
           }
          ],
          "parcoords": [
           {
            "line": {
             "colorbar": {
              "outlinewidth": 0,
              "ticks": ""
             }
            },
            "type": "parcoords"
           }
          ],
          "pie": [
           {
            "automargin": true,
            "type": "pie"
           }
          ],
          "scatter": [
           {
            "marker": {
             "colorbar": {
              "outlinewidth": 0,
              "ticks": ""
             }
            },
            "type": "scatter"
           }
          ],
          "scatter3d": [
           {
            "line": {
             "colorbar": {
              "outlinewidth": 0,
              "ticks": ""
             }
            },
            "marker": {
             "colorbar": {
              "outlinewidth": 0,
              "ticks": ""
             }
            },
            "type": "scatter3d"
           }
          ],
          "scattercarpet": [
           {
            "marker": {
             "colorbar": {
              "outlinewidth": 0,
              "ticks": ""
             }
            },
            "type": "scattercarpet"
           }
          ],
          "scattergeo": [
           {
            "marker": {
             "colorbar": {
              "outlinewidth": 0,
              "ticks": ""
             }
            },
            "type": "scattergeo"
           }
          ],
          "scattergl": [
           {
            "marker": {
             "colorbar": {
              "outlinewidth": 0,
              "ticks": ""
             }
            },
            "type": "scattergl"
           }
          ],
          "scattermapbox": [
           {
            "marker": {
             "colorbar": {
              "outlinewidth": 0,
              "ticks": ""
             }
            },
            "type": "scattermapbox"
           }
          ],
          "scatterpolar": [
           {
            "marker": {
             "colorbar": {
              "outlinewidth": 0,
              "ticks": ""
             }
            },
            "type": "scatterpolar"
           }
          ],
          "scatterpolargl": [
           {
            "marker": {
             "colorbar": {
              "outlinewidth": 0,
              "ticks": ""
             }
            },
            "type": "scatterpolargl"
           }
          ],
          "scatterternary": [
           {
            "marker": {
             "colorbar": {
              "outlinewidth": 0,
              "ticks": ""
             }
            },
            "type": "scatterternary"
           }
          ],
          "surface": [
           {
            "colorbar": {
             "outlinewidth": 0,
             "ticks": ""
            },
            "colorscale": [
             [
              0,
              "#0d0887"
             ],
             [
              0.1111111111111111,
              "#46039f"
             ],
             [
              0.2222222222222222,
              "#7201a8"
             ],
             [
              0.3333333333333333,
              "#9c179e"
             ],
             [
              0.4444444444444444,
              "#bd3786"
             ],
             [
              0.5555555555555556,
              "#d8576b"
             ],
             [
              0.6666666666666666,
              "#ed7953"
             ],
             [
              0.7777777777777778,
              "#fb9f3a"
             ],
             [
              0.8888888888888888,
              "#fdca26"
             ],
             [
              1,
              "#f0f921"
             ]
            ],
            "type": "surface"
           }
          ],
          "table": [
           {
            "cells": {
             "fill": {
              "color": "#EBF0F8"
             },
             "line": {
              "color": "white"
             }
            },
            "header": {
             "fill": {
              "color": "#C8D4E3"
             },
             "line": {
              "color": "white"
             }
            },
            "type": "table"
           }
          ]
         },
         "layout": {
          "annotationdefaults": {
           "arrowcolor": "#2a3f5f",
           "arrowhead": 0,
           "arrowwidth": 1
          },
          "coloraxis": {
           "colorbar": {
            "outlinewidth": 0,
            "ticks": ""
           }
          },
          "colorscale": {
           "diverging": [
            [
             0,
             "#8e0152"
            ],
            [
             0.1,
             "#c51b7d"
            ],
            [
             0.2,
             "#de77ae"
            ],
            [
             0.3,
             "#f1b6da"
            ],
            [
             0.4,
             "#fde0ef"
            ],
            [
             0.5,
             "#f7f7f7"
            ],
            [
             0.6,
             "#e6f5d0"
            ],
            [
             0.7,
             "#b8e186"
            ],
            [
             0.8,
             "#7fbc41"
            ],
            [
             0.9,
             "#4d9221"
            ],
            [
             1,
             "#276419"
            ]
           ],
           "sequential": [
            [
             0,
             "#0d0887"
            ],
            [
             0.1111111111111111,
             "#46039f"
            ],
            [
             0.2222222222222222,
             "#7201a8"
            ],
            [
             0.3333333333333333,
             "#9c179e"
            ],
            [
             0.4444444444444444,
             "#bd3786"
            ],
            [
             0.5555555555555556,
             "#d8576b"
            ],
            [
             0.6666666666666666,
             "#ed7953"
            ],
            [
             0.7777777777777778,
             "#fb9f3a"
            ],
            [
             0.8888888888888888,
             "#fdca26"
            ],
            [
             1,
             "#f0f921"
            ]
           ],
           "sequentialminus": [
            [
             0,
             "#0d0887"
            ],
            [
             0.1111111111111111,
             "#46039f"
            ],
            [
             0.2222222222222222,
             "#7201a8"
            ],
            [
             0.3333333333333333,
             "#9c179e"
            ],
            [
             0.4444444444444444,
             "#bd3786"
            ],
            [
             0.5555555555555556,
             "#d8576b"
            ],
            [
             0.6666666666666666,
             "#ed7953"
            ],
            [
             0.7777777777777778,
             "#fb9f3a"
            ],
            [
             0.8888888888888888,
             "#fdca26"
            ],
            [
             1,
             "#f0f921"
            ]
           ]
          },
          "colorway": [
           "#636efa",
           "#EF553B",
           "#00cc96",
           "#ab63fa",
           "#FFA15A",
           "#19d3f3",
           "#FF6692",
           "#B6E880",
           "#FF97FF",
           "#FECB52"
          ],
          "font": {
           "color": "#2a3f5f"
          },
          "geo": {
           "bgcolor": "white",
           "lakecolor": "white",
           "landcolor": "white",
           "showlakes": true,
           "showland": true,
           "subunitcolor": "#C8D4E3"
          },
          "hoverlabel": {
           "align": "left"
          },
          "hovermode": "closest",
          "mapbox": {
           "style": "light"
          },
          "paper_bgcolor": "white",
          "plot_bgcolor": "white",
          "polar": {
           "angularaxis": {
            "gridcolor": "#EBF0F8",
            "linecolor": "#EBF0F8",
            "ticks": ""
           },
           "bgcolor": "white",
           "radialaxis": {
            "gridcolor": "#EBF0F8",
            "linecolor": "#EBF0F8",
            "ticks": ""
           }
          },
          "scene": {
           "xaxis": {
            "backgroundcolor": "white",
            "gridcolor": "#DFE8F3",
            "gridwidth": 2,
            "linecolor": "#EBF0F8",
            "showbackground": true,
            "ticks": "",
            "zerolinecolor": "#EBF0F8"
           },
           "yaxis": {
            "backgroundcolor": "white",
            "gridcolor": "#DFE8F3",
            "gridwidth": 2,
            "linecolor": "#EBF0F8",
            "showbackground": true,
            "ticks": "",
            "zerolinecolor": "#EBF0F8"
           },
           "zaxis": {
            "backgroundcolor": "white",
            "gridcolor": "#DFE8F3",
            "gridwidth": 2,
            "linecolor": "#EBF0F8",
            "showbackground": true,
            "ticks": "",
            "zerolinecolor": "#EBF0F8"
           }
          },
          "shapedefaults": {
           "line": {
            "color": "#2a3f5f"
           }
          },
          "ternary": {
           "aaxis": {
            "gridcolor": "#DFE8F3",
            "linecolor": "#A2B1C6",
            "ticks": ""
           },
           "baxis": {
            "gridcolor": "#DFE8F3",
            "linecolor": "#A2B1C6",
            "ticks": ""
           },
           "bgcolor": "white",
           "caxis": {
            "gridcolor": "#DFE8F3",
            "linecolor": "#A2B1C6",
            "ticks": ""
           }
          },
          "title": {
           "x": 0.05
          },
          "xaxis": {
           "automargin": true,
           "gridcolor": "#EBF0F8",
           "linecolor": "#EBF0F8",
           "ticks": "",
           "title": {
            "standoff": 15
           },
           "zerolinecolor": "#EBF0F8",
           "zerolinewidth": 2
          },
          "yaxis": {
           "automargin": true,
           "gridcolor": "#EBF0F8",
           "linecolor": "#EBF0F8",
           "ticks": "",
           "title": {
            "standoff": 15
           },
           "zerolinecolor": "#EBF0F8",
           "zerolinewidth": 2
          }
         }
        },
        "title": {
         "text": "2020.02.05 明星主页打投粉丝重叠量"
        },
        "xaxis": {
         "anchor": "y",
         "domain": [
          0,
          1
         ],
         "title": {
          "text": "名字"
         }
        },
        "yaxis": {
         "anchor": "x",
         "domain": [
          0,
          1
         ],
         "title": {
          "text": "粉丝数量"
         }
        }
       }
      },
      "text/html": [
       "<div>\n",
       "        \n",
       "        \n",
       "            <div id=\"4c36a1c2-eb72-4ddd-b6b2-bb9adbab4128\" class=\"plotly-graph-div\" style=\"height:525px; width:100%;\"></div>\n",
       "            <script type=\"text/javascript\">\n",
       "                require([\"plotly\"], function(Plotly) {\n",
       "                    window.PLOTLYENV=window.PLOTLYENV || {};\n",
       "                    \n",
       "                if (document.getElementById(\"4c36a1c2-eb72-4ddd-b6b2-bb9adbab4128\")) {\n",
       "                    Plotly.newPlot(\n",
       "                        '4c36a1c2-eb72-4ddd-b6b2-bb9adbab4128',\n",
       "                        [{\"alignmentgroup\": \"True\", \"hovertemplate\": \"target=mjq<br>source=%{x}<br>value=%{y}<br>percent=%{text}<extra></extra>\", \"legendgroup\": \"mjq\", \"marker\": {\"color\": \"#B399FF\"}, \"name\": \"mjq\", \"offsetgroup\": \"mjq\", \"orientation\": \"v\", \"showlegend\": true, \"text\": [0.11, 0.58, 0.0, 0.05, 0.06, 0.06, 0.07, 0.07], \"textposition\": \"auto\", \"texttemplate\": \"%{text:%}\", \"type\": \"bar\", \"x\": [\"tnt\", \"mjq\", \"dcx\", \"syx\", \"lyw\", \"zzy\", \"yhx\", \"hjl\"], \"xaxis\": \"x\", \"y\": [11, 58, 0, 5, 6, 6, 7, 7], \"yaxis\": \"y\"}, {\"alignmentgroup\": \"True\", \"hovertemplate\": \"target=dcx<br>source=%{x}<br>value=%{y}<br>percent=%{text}<extra></extra>\", \"legendgroup\": \"dcx\", \"marker\": {\"color\": \"#FFD700\"}, \"name\": \"dcx\", \"offsetgroup\": \"dcx\", \"orientation\": \"v\", \"showlegend\": true, \"text\": [0.01, 0.0, 0.97, 0.0, 0.02, 0.0, 0.0, 0.0], \"textposition\": \"auto\", \"texttemplate\": \"%{text:%}\", \"type\": \"bar\", \"x\": [\"tnt\", \"mjq\", \"dcx\", \"syx\", \"lyw\", \"zzy\", \"yhx\", \"hjl\"], \"xaxis\": \"x\", \"y\": [1, 0, 97, 0, 2, 0, 0, 0], \"yaxis\": \"y\"}, {\"alignmentgroup\": \"True\", \"hovertemplate\": \"target=syx<br>source=%{x}<br>value=%{y}<br>percent=%{text}<extra></extra>\", \"legendgroup\": \"syx\", \"marker\": {\"color\": \"#63C5DE\"}, \"name\": \"syx\", \"offsetgroup\": \"syx\", \"orientation\": \"v\", \"showlegend\": true, \"text\": [0.11, 0.05, 0.0, 0.53, 0.09, 0.12, 0.05, 0.05], \"textposition\": \"auto\", \"texttemplate\": \"%{text:%}\", \"type\": \"bar\", \"x\": [\"tnt\", \"mjq\", \"dcx\", \"syx\", \"lyw\", \"zzy\", \"yhx\", \"hjl\"], \"xaxis\": \"x\", \"y\": [11, 5, 0, 53, 9, 12, 5, 5], \"yaxis\": \"y\"}, {\"alignmentgroup\": \"True\", \"hovertemplate\": \"target=lyw<br>source=%{x}<br>value=%{y}<br>percent=%{text}<extra></extra>\", \"legendgroup\": \"lyw\", \"marker\": {\"color\": \"#808080\"}, \"name\": \"lyw\", \"offsetgroup\": \"lyw\", \"orientation\": \"v\", \"showlegend\": true, \"text\": [0.11, 0.06, 0.02, 0.09, 0.51, 0.06, 0.1, 0.05], \"textposition\": \"auto\", \"texttemplate\": \"%{text:%}\", \"type\": \"bar\", \"x\": [\"tnt\", \"mjq\", \"dcx\", \"syx\", \"lyw\", \"zzy\", \"yhx\", \"hjl\"], \"xaxis\": \"x\", \"y\": [11, 6, 2, 9, 51, 6, 10, 5], \"yaxis\": \"y\"}, {\"alignmentgroup\": \"True\", \"hovertemplate\": \"target=zzy<br>source=%{x}<br>value=%{y}<br>percent=%{text}<extra></extra>\", \"legendgroup\": \"zzy\", \"marker\": {\"color\": \"#c0ebd7\"}, \"name\": \"zzy\", \"offsetgroup\": \"zzy\", \"orientation\": \"v\", \"showlegend\": true, \"text\": [0.08, 0.06, 0.0, 0.12, 0.06, 0.52, 0.07, 0.09], \"textposition\": \"auto\", \"texttemplate\": \"%{text:%}\", \"type\": \"bar\", \"x\": [\"tnt\", \"mjq\", \"dcx\", \"syx\", \"lyw\", \"zzy\", \"yhx\", \"hjl\"], \"xaxis\": \"x\", \"y\": [8, 6, 0, 12, 6, 52, 7, 9], \"yaxis\": \"y\"}, {\"alignmentgroup\": \"True\", \"hovertemplate\": \"target=yhx<br>source=%{x}<br>value=%{y}<br>percent=%{text}<extra></extra>\", \"legendgroup\": \"yhx\", \"marker\": {\"color\": \"#FC766A\"}, \"name\": \"yhx\", \"offsetgroup\": \"yhx\", \"orientation\": \"v\", \"showlegend\": true, \"text\": [0.09, 0.07, 0.0, 0.05, 0.1, 0.07, 0.52, 0.1], \"textposition\": \"auto\", \"texttemplate\": \"%{text:%}\", \"type\": \"bar\", \"x\": [\"tnt\", \"mjq\", \"dcx\", \"syx\", \"lyw\", \"zzy\", \"yhx\", \"hjl\"], \"xaxis\": \"x\", \"y\": [9, 7, 0, 5, 10, 7, 52, 10], \"yaxis\": \"y\"}, {\"alignmentgroup\": \"True\", \"hovertemplate\": \"target=hjl<br>source=%{x}<br>value=%{y}<br>percent=%{text}<extra></extra>\", \"legendgroup\": \"hjl\", \"marker\": {\"color\": \"#add5a2\"}, \"name\": \"hjl\", \"offsetgroup\": \"hjl\", \"orientation\": \"v\", \"showlegend\": true, \"text\": [0.09, 0.07, 0.0, 0.05, 0.05, 0.09, 0.1, 0.55], \"textposition\": \"auto\", \"texttemplate\": \"%{text:%}\", \"type\": \"bar\", \"x\": [\"tnt\", \"mjq\", \"dcx\", \"syx\", \"lyw\", \"zzy\", \"yhx\", \"hjl\"], \"xaxis\": \"x\", \"y\": [9, 7, 0, 5, 5, 9, 10, 55], \"yaxis\": \"y\"}, {\"alignmentgroup\": \"True\", \"hovertemplate\": \"target=tnt<br>source=%{x}<br>value=%{y}<br>percent=%{text}<extra></extra>\", \"legendgroup\": \"tnt\", \"marker\": {\"color\": \"#000000\"}, \"name\": \"tnt\", \"offsetgroup\": \"tnt\", \"orientation\": \"v\", \"showlegend\": true, \"text\": [0.4, 0.11, 0.01, 0.11, 0.11, 0.08, 0.09, 0.09], \"textposition\": \"auto\", \"texttemplate\": \"%{text:%}\", \"type\": \"bar\", \"x\": [\"tnt\", \"mjq\", \"dcx\", \"syx\", \"lyw\", \"zzy\", \"yhx\", \"hjl\"], \"xaxis\": \"x\", \"y\": [40, 11, 1, 11, 11, 8, 9, 9], \"yaxis\": \"y\"}],\n",
       "                        {\"barmode\": \"relative\", \"legend\": {\"title\": {\"text\": \"\\u540d\\u5b57\"}, \"tracegroupgap\": 0}, \"margin\": {\"t\": 60}, \"template\": {\"data\": {\"bar\": [{\"error_x\": {\"color\": \"#2a3f5f\"}, \"error_y\": {\"color\": \"#2a3f5f\"}, \"marker\": {\"line\": {\"color\": \"white\", \"width\": 0.5}}, \"type\": \"bar\"}], \"barpolar\": [{\"marker\": {\"line\": {\"color\": \"white\", \"width\": 0.5}}, \"type\": \"barpolar\"}], \"carpet\": [{\"aaxis\": {\"endlinecolor\": \"#2a3f5f\", \"gridcolor\": \"#C8D4E3\", \"linecolor\": \"#C8D4E3\", \"minorgridcolor\": \"#C8D4E3\", \"startlinecolor\": \"#2a3f5f\"}, \"baxis\": {\"endlinecolor\": \"#2a3f5f\", \"gridcolor\": \"#C8D4E3\", \"linecolor\": \"#C8D4E3\", \"minorgridcolor\": \"#C8D4E3\", \"startlinecolor\": \"#2a3f5f\"}, \"type\": \"carpet\"}], \"choropleth\": [{\"colorbar\": {\"outlinewidth\": 0, \"ticks\": \"\"}, \"type\": \"choropleth\"}], \"contour\": [{\"colorbar\": {\"outlinewidth\": 0, \"ticks\": \"\"}, \"colorscale\": [[0.0, \"#0d0887\"], [0.1111111111111111, \"#46039f\"], [0.2222222222222222, \"#7201a8\"], [0.3333333333333333, \"#9c179e\"], [0.4444444444444444, \"#bd3786\"], [0.5555555555555556, \"#d8576b\"], [0.6666666666666666, \"#ed7953\"], [0.7777777777777778, \"#fb9f3a\"], [0.8888888888888888, \"#fdca26\"], [1.0, \"#f0f921\"]], \"type\": \"contour\"}], \"contourcarpet\": [{\"colorbar\": {\"outlinewidth\": 0, \"ticks\": \"\"}, \"type\": \"contourcarpet\"}], \"heatmap\": [{\"colorbar\": {\"outlinewidth\": 0, \"ticks\": \"\"}, \"colorscale\": [[0.0, \"#0d0887\"], [0.1111111111111111, \"#46039f\"], [0.2222222222222222, \"#7201a8\"], [0.3333333333333333, \"#9c179e\"], [0.4444444444444444, \"#bd3786\"], [0.5555555555555556, \"#d8576b\"], [0.6666666666666666, \"#ed7953\"], [0.7777777777777778, \"#fb9f3a\"], [0.8888888888888888, \"#fdca26\"], [1.0, \"#f0f921\"]], \"type\": \"heatmap\"}], \"heatmapgl\": [{\"colorbar\": {\"outlinewidth\": 0, \"ticks\": \"\"}, \"colorscale\": [[0.0, \"#0d0887\"], [0.1111111111111111, \"#46039f\"], [0.2222222222222222, \"#7201a8\"], [0.3333333333333333, \"#9c179e\"], [0.4444444444444444, \"#bd3786\"], [0.5555555555555556, \"#d8576b\"], [0.6666666666666666, \"#ed7953\"], [0.7777777777777778, \"#fb9f3a\"], [0.8888888888888888, \"#fdca26\"], [1.0, \"#f0f921\"]], \"type\": \"heatmapgl\"}], \"histogram\": [{\"marker\": {\"colorbar\": {\"outlinewidth\": 0, \"ticks\": \"\"}}, \"type\": \"histogram\"}], \"histogram2d\": [{\"colorbar\": {\"outlinewidth\": 0, \"ticks\": \"\"}, \"colorscale\": [[0.0, \"#0d0887\"], [0.1111111111111111, \"#46039f\"], [0.2222222222222222, \"#7201a8\"], [0.3333333333333333, \"#9c179e\"], [0.4444444444444444, \"#bd3786\"], [0.5555555555555556, \"#d8576b\"], [0.6666666666666666, \"#ed7953\"], [0.7777777777777778, \"#fb9f3a\"], [0.8888888888888888, \"#fdca26\"], [1.0, \"#f0f921\"]], \"type\": \"histogram2d\"}], \"histogram2dcontour\": [{\"colorbar\": {\"outlinewidth\": 0, \"ticks\": \"\"}, \"colorscale\": [[0.0, \"#0d0887\"], [0.1111111111111111, \"#46039f\"], [0.2222222222222222, \"#7201a8\"], [0.3333333333333333, \"#9c179e\"], [0.4444444444444444, \"#bd3786\"], [0.5555555555555556, \"#d8576b\"], [0.6666666666666666, \"#ed7953\"], [0.7777777777777778, \"#fb9f3a\"], [0.8888888888888888, \"#fdca26\"], [1.0, \"#f0f921\"]], \"type\": \"histogram2dcontour\"}], \"mesh3d\": [{\"colorbar\": {\"outlinewidth\": 0, \"ticks\": \"\"}, \"type\": \"mesh3d\"}], \"parcoords\": [{\"line\": {\"colorbar\": {\"outlinewidth\": 0, \"ticks\": \"\"}}, \"type\": \"parcoords\"}], \"pie\": [{\"automargin\": true, \"type\": \"pie\"}], \"scatter\": [{\"marker\": {\"colorbar\": {\"outlinewidth\": 0, \"ticks\": \"\"}}, \"type\": \"scatter\"}], \"scatter3d\": [{\"line\": {\"colorbar\": {\"outlinewidth\": 0, \"ticks\": \"\"}}, \"marker\": {\"colorbar\": {\"outlinewidth\": 0, \"ticks\": \"\"}}, \"type\": \"scatter3d\"}], \"scattercarpet\": [{\"marker\": {\"colorbar\": {\"outlinewidth\": 0, \"ticks\": \"\"}}, \"type\": \"scattercarpet\"}], \"scattergeo\": [{\"marker\": {\"colorbar\": {\"outlinewidth\": 0, \"ticks\": \"\"}}, \"type\": \"scattergeo\"}], \"scattergl\": [{\"marker\": {\"colorbar\": {\"outlinewidth\": 0, \"ticks\": \"\"}}, \"type\": \"scattergl\"}], \"scattermapbox\": [{\"marker\": {\"colorbar\": {\"outlinewidth\": 0, \"ticks\": \"\"}}, \"type\": \"scattermapbox\"}], \"scatterpolar\": [{\"marker\": {\"colorbar\": {\"outlinewidth\": 0, \"ticks\": \"\"}}, \"type\": \"scatterpolar\"}], \"scatterpolargl\": [{\"marker\": {\"colorbar\": {\"outlinewidth\": 0, \"ticks\": \"\"}}, \"type\": \"scatterpolargl\"}], \"scatterternary\": [{\"marker\": {\"colorbar\": {\"outlinewidth\": 0, \"ticks\": \"\"}}, \"type\": \"scatterternary\"}], \"surface\": [{\"colorbar\": {\"outlinewidth\": 0, \"ticks\": \"\"}, \"colorscale\": [[0.0, \"#0d0887\"], [0.1111111111111111, \"#46039f\"], [0.2222222222222222, \"#7201a8\"], [0.3333333333333333, \"#9c179e\"], [0.4444444444444444, \"#bd3786\"], [0.5555555555555556, \"#d8576b\"], [0.6666666666666666, \"#ed7953\"], [0.7777777777777778, \"#fb9f3a\"], [0.8888888888888888, \"#fdca26\"], [1.0, \"#f0f921\"]], \"type\": \"surface\"}], \"table\": [{\"cells\": {\"fill\": {\"color\": \"#EBF0F8\"}, \"line\": {\"color\": \"white\"}}, \"header\": {\"fill\": {\"color\": \"#C8D4E3\"}, \"line\": {\"color\": \"white\"}}, \"type\": \"table\"}]}, \"layout\": {\"annotationdefaults\": {\"arrowcolor\": \"#2a3f5f\", \"arrowhead\": 0, \"arrowwidth\": 1}, \"coloraxis\": {\"colorbar\": {\"outlinewidth\": 0, \"ticks\": \"\"}}, \"colorscale\": {\"diverging\": [[0, \"#8e0152\"], [0.1, \"#c51b7d\"], [0.2, \"#de77ae\"], [0.3, \"#f1b6da\"], [0.4, \"#fde0ef\"], [0.5, \"#f7f7f7\"], [0.6, \"#e6f5d0\"], [0.7, \"#b8e186\"], [0.8, \"#7fbc41\"], [0.9, \"#4d9221\"], [1, \"#276419\"]], \"sequential\": [[0.0, \"#0d0887\"], [0.1111111111111111, \"#46039f\"], [0.2222222222222222, \"#7201a8\"], [0.3333333333333333, \"#9c179e\"], [0.4444444444444444, \"#bd3786\"], [0.5555555555555556, \"#d8576b\"], [0.6666666666666666, \"#ed7953\"], [0.7777777777777778, \"#fb9f3a\"], [0.8888888888888888, \"#fdca26\"], [1.0, \"#f0f921\"]], \"sequentialminus\": [[0.0, \"#0d0887\"], [0.1111111111111111, \"#46039f\"], [0.2222222222222222, \"#7201a8\"], [0.3333333333333333, \"#9c179e\"], [0.4444444444444444, \"#bd3786\"], [0.5555555555555556, \"#d8576b\"], [0.6666666666666666, \"#ed7953\"], [0.7777777777777778, \"#fb9f3a\"], [0.8888888888888888, \"#fdca26\"], [1.0, \"#f0f921\"]]}, \"colorway\": [\"#636efa\", \"#EF553B\", \"#00cc96\", \"#ab63fa\", \"#FFA15A\", \"#19d3f3\", \"#FF6692\", \"#B6E880\", \"#FF97FF\", \"#FECB52\"], \"font\": {\"color\": \"#2a3f5f\"}, \"geo\": {\"bgcolor\": \"white\", \"lakecolor\": \"white\", \"landcolor\": \"white\", \"showlakes\": true, \"showland\": true, \"subunitcolor\": \"#C8D4E3\"}, \"hoverlabel\": {\"align\": \"left\"}, \"hovermode\": \"closest\", \"mapbox\": {\"style\": \"light\"}, \"paper_bgcolor\": \"white\", \"plot_bgcolor\": \"white\", \"polar\": {\"angularaxis\": {\"gridcolor\": \"#EBF0F8\", \"linecolor\": \"#EBF0F8\", \"ticks\": \"\"}, \"bgcolor\": \"white\", \"radialaxis\": {\"gridcolor\": \"#EBF0F8\", \"linecolor\": \"#EBF0F8\", \"ticks\": \"\"}}, \"scene\": {\"xaxis\": {\"backgroundcolor\": \"white\", \"gridcolor\": \"#DFE8F3\", \"gridwidth\": 2, \"linecolor\": \"#EBF0F8\", \"showbackground\": true, \"ticks\": \"\", \"zerolinecolor\": \"#EBF0F8\"}, \"yaxis\": {\"backgroundcolor\": \"white\", \"gridcolor\": \"#DFE8F3\", \"gridwidth\": 2, \"linecolor\": \"#EBF0F8\", \"showbackground\": true, \"ticks\": \"\", \"zerolinecolor\": \"#EBF0F8\"}, \"zaxis\": {\"backgroundcolor\": \"white\", \"gridcolor\": \"#DFE8F3\", \"gridwidth\": 2, \"linecolor\": \"#EBF0F8\", \"showbackground\": true, \"ticks\": \"\", \"zerolinecolor\": \"#EBF0F8\"}}, \"shapedefaults\": {\"line\": {\"color\": \"#2a3f5f\"}}, \"ternary\": {\"aaxis\": {\"gridcolor\": \"#DFE8F3\", \"linecolor\": \"#A2B1C6\", \"ticks\": \"\"}, \"baxis\": {\"gridcolor\": \"#DFE8F3\", \"linecolor\": \"#A2B1C6\", \"ticks\": \"\"}, \"bgcolor\": \"white\", \"caxis\": {\"gridcolor\": \"#DFE8F3\", \"linecolor\": \"#A2B1C6\", \"ticks\": \"\"}}, \"title\": {\"x\": 0.05}, \"xaxis\": {\"automargin\": true, \"gridcolor\": \"#EBF0F8\", \"linecolor\": \"#EBF0F8\", \"ticks\": \"\", \"title\": {\"standoff\": 15}, \"zerolinecolor\": \"#EBF0F8\", \"zerolinewidth\": 2}, \"yaxis\": {\"automargin\": true, \"gridcolor\": \"#EBF0F8\", \"linecolor\": \"#EBF0F8\", \"ticks\": \"\", \"title\": {\"standoff\": 15}, \"zerolinecolor\": \"#EBF0F8\", \"zerolinewidth\": 2}}}, \"title\": {\"text\": \"2020.02.05 \\u660e\\u661f\\u4e3b\\u9875\\u6253\\u6295\\u7c89\\u4e1d\\u91cd\\u53e0\\u91cf\"}, \"xaxis\": {\"anchor\": \"y\", \"domain\": [0.0, 1.0], \"title\": {\"text\": \"\\u540d\\u5b57\"}}, \"yaxis\": {\"anchor\": \"x\", \"domain\": [0.0, 1.0], \"title\": {\"text\": \"\\u7c89\\u4e1d\\u6570\\u91cf\"}}},\n",
       "                        {\"responsive\": true}\n",
       "                    ).then(function(){\n",
       "                            \n",
       "var gd = document.getElementById('4c36a1c2-eb72-4ddd-b6b2-bb9adbab4128');\n",
       "var x = new MutationObserver(function (mutations, observer) {{\n",
       "        var display = window.getComputedStyle(gd).display;\n",
       "        if (!display || display === 'none') {{\n",
       "            console.log([gd, 'removed!']);\n",
       "            Plotly.purge(gd);\n",
       "            observer.disconnect();\n",
       "        }}\n",
       "}});\n",
       "\n",
       "// Listen for the removal of the full notebook cells\n",
       "var notebookContainer = gd.closest('#notebook-container');\n",
       "if (notebookContainer) {{\n",
       "    x.observe(notebookContainer, {childList: true});\n",
       "}}\n",
       "\n",
       "// Listen for the clearing of the current output cell\n",
       "var outputEl = gd.closest('.output');\n",
       "if (outputEl) {{\n",
       "    x.observe(outputEl, {childList: true});\n",
       "}}\n",
       "\n",
       "                        })\n",
       "                };\n",
       "                });\n",
       "            </script>\n",
       "        </div>"
      ]
     },
     "metadata": {},
     "output_type": "display_data"
    },
    {
     "data": {
      "text/plain": [
       "'https://plotly.com/~yyyyyokoko1/25/'"
      ]
     },
     "execution_count": 303,
     "metadata": {},
     "output_type": "execute_result"
    }
   ],
   "source": [
    "fig = px.bar(intersect, x=\"source\", y=\"value\", \n",
    "             color = \"target\", color_discrete_map = color2,\n",
    "             text=\"percent\")\n",
    "\n",
    "fig.update_traces(texttemplate='%{text:%}')\n",
    "\n",
    "fig.update_layout(title='2020.02.05 明星主页打投粉丝重叠量',\n",
    "                  xaxis_title='名字',\n",
    "                  yaxis_title='粉丝数量',\n",
    "                  template=\"plotly_white\",\n",
    "                  legend_title=\"名字\")\n",
    "fig.show()\n",
    "\n",
    "py.plot(fig, filename = 'overlap', auto_open=False)\n"
   ]
  },
  {
   "cell_type": "markdown",
   "metadata": {},
   "source": [
    "### sankey, 太丑了"
   ]
  },
  {
   "cell_type": "code",
   "execution_count": 315,
   "metadata": {},
   "outputs": [],
   "source": [
    "# label = [\"tnt\", \"mjq\", \"dcx\", \"syx\", \"lyw\", \"zzy\", \"yhx\", \"hjl\", \n",
    "#          \"tnt'\", \"mjq'\", \"dcx'\", \"syx'\", \"lyw'\", \"zzy'\", \"yhx'\", \"hjl'\"]\n"
   ]
  },
  {
   "cell_type": "code",
   "execution_count": 316,
   "metadata": {},
   "outputs": [],
   "source": [
    "# intersect2 = intersect.copy()\n",
    "\n",
    "# intersect2.target = intersect2.target + \"'\"\n",
    "\n",
    "# mapped = {i:j for i, j in zip(label, range(len(label)))}\n",
    "# intersect2.source = intersect2.source.map(mapped)\n",
    "# intersect2.target = intersect2.target.map(mapped)\n",
    "\n",
    "# link = dict(source = intersect2.source, target = intersect2.target, value = intersect2.value)\n",
    "# node = dict(label = label)\n",
    "# data = go.Sankey(link = link, node=node)\n",
    "# # plot\n",
    "# fig = go.Figure(data)\n",
    "# fig.show()"
   ]
  },
  {
   "cell_type": "code",
   "execution_count": null,
   "metadata": {},
   "outputs": [],
   "source": [
    "\n"
   ]
  },
  {
   "cell_type": "code",
   "execution_count": null,
   "metadata": {},
   "outputs": [],
   "source": []
  }
 ],
 "metadata": {
  "kernelspec": {
   "display_name": "Python 3",
   "language": "python",
   "name": "python3"
  },
  "language_info": {
   "codemirror_mode": {
    "name": "ipython",
    "version": 3
   },
   "file_extension": ".py",
   "mimetype": "text/x-python",
   "name": "python",
   "nbconvert_exporter": "python",
   "pygments_lexer": "ipython3",
   "version": "3.7.4"
  }
 },
 "nbformat": 4,
 "nbformat_minor": 2
}
